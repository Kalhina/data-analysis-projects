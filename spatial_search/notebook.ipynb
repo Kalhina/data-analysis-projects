{
 "cells": [
  {
   "cell_type": "markdown",
   "metadata": {
    "extensions": {
     "jupyter_dashboards": {
      "version": 1,
      "views": {
       "grid_default": {
        "col": 0,
        "height": 8,
        "hidden": false,
        "row": 0,
        "width": 12
       },
       "report_default": {
        "hidden": false
       }
      }
     }
    }
   },
   "source": [
    "# Spatial search\n",
    "---\n",
    "\n",
    "## Introduction\n",
    "---\n",
    "The goal here is to create a simple way to overlay leaflet maps with GeoPandas dataframes and plot the aggregate numeric data derived from them.\n",
    "The most interesting part is the implementation of a \"graphical query\"\n",
    "whereby a user can select and aggregate GeoDataframes rows by simply drawing selection polygons on the underlaying leaflet map."
   ]
  },
  {
   "cell_type": "markdown",
   "metadata": {
    "extensions": {
     "jupyter_dashboards": {
      "version": 1,
      "views": {
       "grid_default": {
        "col": 0,
        "height": 4,
        "hidden": false,
        "row": 8,
        "width": 4
       },
       "report_default": {
        "hidden": false
       }
      }
     }
    }
   },
   "source": [
    "## Implementation\n",
    "---"
   ]
  },
  {
   "cell_type": "code",
   "execution_count": 1,
   "metadata": {
    "collapsed": true,
    "extensions": {
     "jupyter_dashboards": {
      "version": 1,
      "views": {
       "grid_default": {
        "hidden": true
       },
       "report_default": {
        "hidden": true
       }
      }
     }
    }
   },
   "outputs": [],
   "source": [
    "# geometry\n",
    "from shapely.geometry import mapping, shape\n",
    "\n",
    "# I/O\n",
    "import geopandas as gpd\n",
    "\n",
    "# widgets\n",
    "import bqplot as bq\n",
    "import ipyleaflet as ipyl\n",
    "import ipywidgets as ipyw\n",
    "\n",
    "# numerics\n",
    "import numpy as np"
   ]
  },
  {
   "cell_type": "code",
   "execution_count": 2,
   "metadata": {
    "extensions": {
     "jupyter_dashboards": {
      "version": 1,
      "views": {
       "grid_default": {
        "col": 0,
        "height": 11,
        "hidden": false,
        "row": 16,
        "width": 12
       },
       "report_default": {
        "hidden": false
       }
      }
     }
    },
    "scrolled": true
   },
   "outputs": [
    {
     "data": {
      "text/html": [
       "<div>\n",
       "<style>\n",
       "    .dataframe thead tr:only-child th {\n",
       "        text-align: right;\n",
       "    }\n",
       "\n",
       "    .dataframe thead th {\n",
       "        text-align: left;\n",
       "    }\n",
       "\n",
       "    .dataframe tbody tr th {\n",
       "        vertical-align: top;\n",
       "    }\n",
       "</style>\n",
       "<table border=\"1\" class=\"dataframe\">\n",
       "  <thead>\n",
       "    <tr style=\"text-align: right;\">\n",
       "      <th></th>\n",
       "      <th>affil</th>\n",
       "      <th>cartodb_id</th>\n",
       "      <th>dms_lat</th>\n",
       "      <th>dms_long</th>\n",
       "      <th>dsg</th>\n",
       "      <th>fips10</th>\n",
       "      <th>full_name</th>\n",
       "      <th>geometry</th>\n",
       "      <th>iso3136</th>\n",
       "      <th>jog</th>\n",
       "      <th>lat</th>\n",
       "      <th>long</th>\n",
       "      <th>mgrs</th>\n",
       "      <th>mod_date</th>\n",
       "      <th>short_name</th>\n",
       "    </tr>\n",
       "  </thead>\n",
       "  <tbody>\n",
       "    <tr>\n",
       "      <th>0</th>\n",
       "      <td>None</td>\n",
       "      <td>4</td>\n",
       "      <td>330000.0</td>\n",
       "      <td>660000.0</td>\n",
       "      <td>PCLI</td>\n",
       "      <td>AF</td>\n",
       "      <td>Islamic Republic of Afghanistan</td>\n",
       "      <td>POINT (66 33)</td>\n",
       "      <td>AF</td>\n",
       "      <td>NI42-09</td>\n",
       "      <td>33.000000</td>\n",
       "      <td>66.0</td>\n",
       "      <td>42STB1970055286</td>\n",
       "      <td>4/10/2009</td>\n",
       "      <td>Afghanistan</td>\n",
       "    </tr>\n",
       "    <tr>\n",
       "      <th>1</th>\n",
       "      <td>None</td>\n",
       "      <td>7</td>\n",
       "      <td>410000.0</td>\n",
       "      <td>200000.0</td>\n",
       "      <td>PCLI</td>\n",
       "      <td>AL</td>\n",
       "      <td>Republic of Albania</td>\n",
       "      <td>POINT (20 41)</td>\n",
       "      <td>AL</td>\n",
       "      <td>NK34-08</td>\n",
       "      <td>41.000000</td>\n",
       "      <td>20.0</td>\n",
       "      <td>34TDL1589839239</td>\n",
       "      <td>2/28/2007</td>\n",
       "      <td>Albania</td>\n",
       "    </tr>\n",
       "    <tr>\n",
       "      <th>2</th>\n",
       "      <td>None</td>\n",
       "      <td>5</td>\n",
       "      <td>280000.0</td>\n",
       "      <td>30000.0</td>\n",
       "      <td>PCLI</td>\n",
       "      <td>AG</td>\n",
       "      <td>People's Democratic Republic of Algeria</td>\n",
       "      <td>POINT (3 28)</td>\n",
       "      <td>DZ</td>\n",
       "      <td>NH31-15</td>\n",
       "      <td>28.000000</td>\n",
       "      <td>3.0</td>\n",
       "      <td>31REL0000097202</td>\n",
       "      <td>3/3/2011</td>\n",
       "      <td>Algeria</td>\n",
       "    </tr>\n",
       "    <tr>\n",
       "      <th>3</th>\n",
       "      <td>US</td>\n",
       "      <td>12</td>\n",
       "      <td>-142000.0</td>\n",
       "      <td>-1700000.0</td>\n",
       "      <td>PCLD</td>\n",
       "      <td>AS</td>\n",
       "      <td>Territory of American Samoa</td>\n",
       "      <td>POINT (-170 -14.333333)</td>\n",
       "      <td>AS</td>\n",
       "      <td>None</td>\n",
       "      <td>-14.333333</td>\n",
       "      <td>-170.0</td>\n",
       "      <td>1802701</td>\n",
       "      <td>10/6/1998</td>\n",
       "      <td>American Samoa</td>\n",
       "    </tr>\n",
       "    <tr>\n",
       "      <th>4</th>\n",
       "      <td>None</td>\n",
       "      <td>9</td>\n",
       "      <td>423000.0</td>\n",
       "      <td>13000.0</td>\n",
       "      <td>PCLI</td>\n",
       "      <td>AN</td>\n",
       "      <td>Principality of Andorra</td>\n",
       "      <td>POINT (1.5 42.5)</td>\n",
       "      <td>AD</td>\n",
       "      <td>NK31-04</td>\n",
       "      <td>42.500000</td>\n",
       "      <td>1.5</td>\n",
       "      <td>31TCH7675006383</td>\n",
       "      <td>2/28/2007</td>\n",
       "      <td>Andorra</td>\n",
       "    </tr>\n",
       "  </tbody>\n",
       "</table>\n",
       "</div>"
      ],
      "text/plain": [
       "  affil  cartodb_id   dms_lat   dms_long   dsg fips10  \\\n",
       "0  None           4  330000.0   660000.0  PCLI     AF   \n",
       "1  None           7  410000.0   200000.0  PCLI     AL   \n",
       "2  None           5  280000.0    30000.0  PCLI     AG   \n",
       "3    US          12 -142000.0 -1700000.0  PCLD     AS   \n",
       "4  None           9  423000.0    13000.0  PCLI     AN   \n",
       "\n",
       "                                 full_name                 geometry iso3136  \\\n",
       "0          Islamic Republic of Afghanistan            POINT (66 33)      AF   \n",
       "1                      Republic of Albania            POINT (20 41)      AL   \n",
       "2  People's Democratic Republic of Algeria             POINT (3 28)      DZ   \n",
       "3              Territory of American Samoa  POINT (-170 -14.333333)      AS   \n",
       "4                  Principality of Andorra         POINT (1.5 42.5)      AD   \n",
       "\n",
       "       jog        lat   long             mgrs   mod_date      short_name  \n",
       "0  NI42-09  33.000000   66.0  42STB1970055286  4/10/2009     Afghanistan  \n",
       "1  NK34-08  41.000000   20.0  34TDL1589839239  2/28/2007         Albania  \n",
       "2  NH31-15  28.000000    3.0  31REL0000097202   3/3/2011         Algeria  \n",
       "3     None -14.333333 -170.0          1802701  10/6/1998  American Samoa  \n",
       "4  NK31-04  42.500000    1.5  31TCH7675006383  2/28/2007         Andorra  "
      ]
     },
     "execution_count": 2,
     "metadata": {},
     "output_type": "execute_result"
    }
   ],
   "source": [
    "df = gpd.read_file('../data/country_centroids')\n",
    "df.head()"
   ]
  },
  {
   "cell_type": "markdown",
   "metadata": {
    "extensions": {
     "jupyter_dashboards": {
      "version": 1,
      "views": {
       "grid_default": {
        "col": 0,
        "height": 4,
        "hidden": false,
        "row": 27,
        "width": 12
       },
       "report_default": {
        "hidden": false
       }
      }
     }
    }
   },
   "source": [
    "We generate mock data for testing purposes. In practice, these indicators can be added from another dataframe, from an API/sensor data stream and even directly from an HTML web page by using modules like beautifulsoup4 "
   ]
  },
  {
   "cell_type": "code",
   "execution_count": 3,
   "metadata": {
    "extensions": {
     "jupyter_dashboards": {
      "version": 1,
      "views": {
       "grid_default": {
        "col": 0,
        "height": 11,
        "hidden": false,
        "row": 31,
        "width": 12
       },
       "report_default": {
        "hidden": false
       }
      }
     }
    },
    "scrolled": true
   },
   "outputs": [
    {
     "data": {
      "text/html": [
       "<div>\n",
       "<style>\n",
       "    .dataframe thead tr:only-child th {\n",
       "        text-align: right;\n",
       "    }\n",
       "\n",
       "    .dataframe thead th {\n",
       "        text-align: left;\n",
       "    }\n",
       "\n",
       "    .dataframe tbody tr th {\n",
       "        vertical-align: top;\n",
       "    }\n",
       "</style>\n",
       "<table border=\"1\" class=\"dataframe\">\n",
       "  <thead>\n",
       "    <tr style=\"text-align: right;\">\n",
       "      <th></th>\n",
       "      <th>affil</th>\n",
       "      <th>cartodb_id</th>\n",
       "      <th>dms_lat</th>\n",
       "      <th>dms_long</th>\n",
       "      <th>dsg</th>\n",
       "      <th>fips10</th>\n",
       "      <th>full_name</th>\n",
       "      <th>geometry</th>\n",
       "      <th>iso3136</th>\n",
       "      <th>jog</th>\n",
       "      <th>lat</th>\n",
       "      <th>long</th>\n",
       "      <th>mgrs</th>\n",
       "      <th>mod_date</th>\n",
       "      <th>short_name</th>\n",
       "      <th>val1</th>\n",
       "      <th>val2</th>\n",
       "      <th>val3</th>\n",
       "      <th>val4</th>\n",
       "    </tr>\n",
       "  </thead>\n",
       "  <tbody>\n",
       "    <tr>\n",
       "      <th>0</th>\n",
       "      <td>None</td>\n",
       "      <td>4</td>\n",
       "      <td>330000.0</td>\n",
       "      <td>660000.0</td>\n",
       "      <td>PCLI</td>\n",
       "      <td>AF</td>\n",
       "      <td>Islamic Republic of Afghanistan</td>\n",
       "      <td>POINT (66 33)</td>\n",
       "      <td>AF</td>\n",
       "      <td>NI42-09</td>\n",
       "      <td>33.000000</td>\n",
       "      <td>66.0</td>\n",
       "      <td>42STB1970055286</td>\n",
       "      <td>4/10/2009</td>\n",
       "      <td>Afghanistan</td>\n",
       "      <td>616524.043821</td>\n",
       "      <td>423676.803494</td>\n",
       "      <td>99713.295154</td>\n",
       "      <td>307842.495760</td>\n",
       "    </tr>\n",
       "    <tr>\n",
       "      <th>1</th>\n",
       "      <td>None</td>\n",
       "      <td>7</td>\n",
       "      <td>410000.0</td>\n",
       "      <td>200000.0</td>\n",
       "      <td>PCLI</td>\n",
       "      <td>AL</td>\n",
       "      <td>Republic of Albania</td>\n",
       "      <td>POINT (20 41)</td>\n",
       "      <td>AL</td>\n",
       "      <td>NK34-08</td>\n",
       "      <td>41.000000</td>\n",
       "      <td>20.0</td>\n",
       "      <td>34TDL1589839239</td>\n",
       "      <td>2/28/2007</td>\n",
       "      <td>Albania</td>\n",
       "      <td>291600.234767</td>\n",
       "      <td>280095.475228</td>\n",
       "      <td>261467.594751</td>\n",
       "      <td>724900.307263</td>\n",
       "    </tr>\n",
       "    <tr>\n",
       "      <th>2</th>\n",
       "      <td>None</td>\n",
       "      <td>5</td>\n",
       "      <td>280000.0</td>\n",
       "      <td>30000.0</td>\n",
       "      <td>PCLI</td>\n",
       "      <td>AG</td>\n",
       "      <td>People's Democratic Republic of Algeria</td>\n",
       "      <td>POINT (3 28)</td>\n",
       "      <td>DZ</td>\n",
       "      <td>NH31-15</td>\n",
       "      <td>28.000000</td>\n",
       "      <td>3.0</td>\n",
       "      <td>31REL0000097202</td>\n",
       "      <td>3/3/2011</td>\n",
       "      <td>Algeria</td>\n",
       "      <td>101079.562601</td>\n",
       "      <td>721500.013416</td>\n",
       "      <td>232311.611477</td>\n",
       "      <td>104148.505343</td>\n",
       "    </tr>\n",
       "    <tr>\n",
       "      <th>3</th>\n",
       "      <td>US</td>\n",
       "      <td>12</td>\n",
       "      <td>-142000.0</td>\n",
       "      <td>-1700000.0</td>\n",
       "      <td>PCLD</td>\n",
       "      <td>AS</td>\n",
       "      <td>Territory of American Samoa</td>\n",
       "      <td>POINT (-170 -14.333333)</td>\n",
       "      <td>AS</td>\n",
       "      <td>None</td>\n",
       "      <td>-14.333333</td>\n",
       "      <td>-170.0</td>\n",
       "      <td>1802701</td>\n",
       "      <td>10/6/1998</td>\n",
       "      <td>American Samoa</td>\n",
       "      <td>432193.075921</td>\n",
       "      <td>991378.904293</td>\n",
       "      <td>164404.905366</td>\n",
       "      <td>830858.415492</td>\n",
       "    </tr>\n",
       "    <tr>\n",
       "      <th>4</th>\n",
       "      <td>None</td>\n",
       "      <td>9</td>\n",
       "      <td>423000.0</td>\n",
       "      <td>13000.0</td>\n",
       "      <td>PCLI</td>\n",
       "      <td>AN</td>\n",
       "      <td>Principality of Andorra</td>\n",
       "      <td>POINT (1.5 42.5)</td>\n",
       "      <td>AD</td>\n",
       "      <td>NK31-04</td>\n",
       "      <td>42.500000</td>\n",
       "      <td>1.5</td>\n",
       "      <td>31TCH7675006383</td>\n",
       "      <td>2/28/2007</td>\n",
       "      <td>Andorra</td>\n",
       "      <td>815191.655088</td>\n",
       "      <td>414812.593530</td>\n",
       "      <td>798943.665265</td>\n",
       "      <td>860763.692796</td>\n",
       "    </tr>\n",
       "  </tbody>\n",
       "</table>\n",
       "</div>"
      ],
      "text/plain": [
       "  affil  cartodb_id   dms_lat   dms_long   dsg fips10  \\\n",
       "0  None           4  330000.0   660000.0  PCLI     AF   \n",
       "1  None           7  410000.0   200000.0  PCLI     AL   \n",
       "2  None           5  280000.0    30000.0  PCLI     AG   \n",
       "3    US          12 -142000.0 -1700000.0  PCLD     AS   \n",
       "4  None           9  423000.0    13000.0  PCLI     AN   \n",
       "\n",
       "                                 full_name                 geometry iso3136  \\\n",
       "0          Islamic Republic of Afghanistan            POINT (66 33)      AF   \n",
       "1                      Republic of Albania            POINT (20 41)      AL   \n",
       "2  People's Democratic Republic of Algeria             POINT (3 28)      DZ   \n",
       "3              Territory of American Samoa  POINT (-170 -14.333333)      AS   \n",
       "4                  Principality of Andorra         POINT (1.5 42.5)      AD   \n",
       "\n",
       "       jog        lat   long             mgrs   mod_date      short_name  \\\n",
       "0  NI42-09  33.000000   66.0  42STB1970055286  4/10/2009     Afghanistan   \n",
       "1  NK34-08  41.000000   20.0  34TDL1589839239  2/28/2007         Albania   \n",
       "2  NH31-15  28.000000    3.0  31REL0000097202   3/3/2011         Algeria   \n",
       "3     None -14.333333 -170.0          1802701  10/6/1998  American Samoa   \n",
       "4  NK31-04  42.500000    1.5  31TCH7675006383  2/28/2007         Andorra   \n",
       "\n",
       "            val1           val2           val3           val4  \n",
       "0  616524.043821  423676.803494   99713.295154  307842.495760  \n",
       "1  291600.234767  280095.475228  261467.594751  724900.307263  \n",
       "2  101079.562601  721500.013416  232311.611477  104148.505343  \n",
       "3  432193.075921  991378.904293  164404.905366  830858.415492  \n",
       "4  815191.655088  414812.593530  798943.665265  860763.692796  "
      ]
     },
     "execution_count": 3,
     "metadata": {},
     "output_type": "execute_result"
    }
   ],
   "source": [
    "# mock data\n",
    "df['val1'], df['val2'], df['val3'], df['val4'] = tuple(np.random.rand(4, 258) * 1e6) \n",
    "df.head()"
   ]
  },
  {
   "cell_type": "markdown",
   "metadata": {
    "extensions": {
     "jupyter_dashboards": {
      "version": 1,
      "views": {
       "grid_default": {
        "col": 0,
        "height": 4,
        "hidden": false,
        "row": 12,
        "width": 4
       },
       "report_default": {
        "hidden": false
       }
      }
     }
    }
   },
   "source": [
    "We instantiate an ipyleaflet map a drawing control to serve as visual support for the \"geographical search\" functionality"
   ]
  },
  {
   "cell_type": "code",
   "execution_count": 4,
   "metadata": {
    "collapsed": true,
    "extensions": {
     "jupyter_dashboards": {
      "version": 1,
      "views": {
       "grid_default": {
        "hidden": true
       },
       "report_default": {
        "hidden": true
       }
      }
     }
    },
    "scrolled": true
   },
   "outputs": [],
   "source": [
    "m= ipyl.Map(scroll_wheel_zoom=True, center=[-0.3515602939922709, 22.5], \n",
    "            zoom=1, layout=ipyw.Layout(width='45%', height='450px'))\n",
    "\n",
    "dc = ipyl.DrawControl(polygon={'shapeOptions': {'color': 'green', 'weight': 2, 'clickable': True}})\n",
    "m.add_control(dc)\n",
    "\n",
    "for centroid in df.geometry:\n",
    "    m.add_layer(ipyl.GeoJSON(data=mapping(centroid)))"
   ]
  },
  {
   "cell_type": "code",
   "execution_count": 5,
   "metadata": {
    "collapsed": true,
    "extensions": {
     "jupyter_dashboards": {
      "version": 1,
      "views": {
       "grid_default": {
        "hidden": true
       },
       "report_default": {
        "hidden": true
       }
      }
     }
    }
   },
   "outputs": [],
   "source": [
    "# while len(m.layers) > 1:\n",
    "#     m.remove_layer(m.layers[-1])"
   ]
  },
  {
   "cell_type": "markdown",
   "metadata": {
    "extensions": {
     "jupyter_dashboards": {
      "version": 1,
      "views": {
       "grid_default": {
        "col": 4,
        "height": 8,
        "hidden": false,
        "row": 8,
        "width": 7
       },
       "report_default": {
        "hidden": false
       }
      }
     }
    }
   },
   "source": [
    "We develop the spatial search functionality by using shapely and plot the aggregate data with bqplot. For the next block to have a functional output, you need a live kernel. Download the notebook and give it a try!"
   ]
  },
  {
   "cell_type": "code",
   "execution_count": 6,
   "metadata": {
    "extensions": {
     "jupyter_dashboards": {
      "version": 1,
      "views": {
       "grid_default": {
        "col": 0,
        "height": 17,
        "hidden": false,
        "row": 42,
        "width": null
       },
       "report_default": {
        "hidden": false
       }
      }
     }
    },
    "scrolled": true
   },
   "outputs": [
    {
     "data": {
      "application/vnd.jupyter.widget-view+json": {
       "model_id": "46096ab760d14beba823ac559d7a1ea3"
      }
     },
     "metadata": {},
     "output_type": "display_data"
    }
   ],
   "source": [
    "ordinal_features_scale = bq.OrdinalScale()\n",
    "values_features_scale = bq.LinearScale()\n",
    "ord_axis = bq.Axis(scale=ordinal_features_scale)\n",
    "value_axis = bq.Axis(scale=values_features_scale, orientation='vertical')\n",
    "\n",
    "indicators = df.loc[:, df.dtypes == np.float64].columns.values\n",
    "\n",
    "bars = bq.Bars(x=indicators, y=np.ones(len(indicators)), \n",
    "               scales={\n",
    "               'x': ordinal_features_scale,\n",
    "               'y': values_features_scale\n",
    "                      }, base=1.0)\n",
    "\n",
    "indication = bq.Label(x=[0.25], y=[0.5], text=['Draw a polygon over the map'], font_size='100px', color=['green'])\n",
    "\n",
    "figure = bq.Figure(axes=[value_axis, ord_axis], marks=[bars, indication],\n",
    "                   title='Indicators',\n",
    "                   animation_duration=500, layout=ipyw.Layout(min_width='55%'))\n",
    "\n",
    "def scores(geo_json):\n",
    "    # geometric selection\n",
    "    polygon_data = df[df.geometry.within(shape(geo_json['geometry']))]\n",
    "    # projection on indicators columns\n",
    "    polygon_data = polygon_data[indicators]\n",
    "    if not polygon_data.empty:\n",
    "        return polygon_data.mean(axis=0)\n",
    "    else:\n",
    "        return np.ones(len(indicators))\n",
    "\n",
    "\n",
    "\n",
    "def handle_draw(self, action, geo_json):\n",
    "    figure.marks = [bars]\n",
    "    bars.y = scores(geo_json)\n",
    "    \n",
    "    \n",
    "dc.on_draw(handle_draw)\n",
    "\n",
    "ipyw.HBox([m, figure])"
   ]
  },
  {
   "cell_type": "markdown",
   "metadata": {
    "extensions": {
     "jupyter_dashboards": {
      "version": 1,
      "views": {
       "grid_default": {
        "col": 0,
        "height": 9,
        "hidden": false,
        "row": 59,
        "width": 12
       },
       "report_default": {
        "hidden": false
       }
      }
     }
    }
   },
   "source": [
    "## What comes next ?\n",
    "---\n",
    "Ideally:\n",
    "1. Make the spatial search more data-agnostic and add other modes of spatial selection\n",
    "2. Add the possibility to choose a custom aggregation function, aside from those proposed by numpy\n",
    "3. Try to complete the UI with a qgrid based widget\n",
    "4. Solve real-world problems with the resulting application and document the process\n",
    "\n",
    "If you want to help, let us know and don't hesitate to make some pull requests"
   ]
  }
 ],
 "metadata": {
  "extensions": {
   "jupyter_dashboards": {
    "activeView": "report_default",
    "version": 1,
    "views": {
     "grid_default": {
      "cellMargin": 10,
      "defaultCellHeight": 20,
      "maxColumns": 12,
      "name": "grid",
      "type": "grid"
     },
     "report_default": {
      "name": "report",
      "type": "report"
     }
    }
   }
  },
  "kernelspec": {
   "display_name": "Python3.5",
   "language": "python",
   "name": "python3.5"
  },
  "language_info": {
   "codemirror_mode": {
    "name": "ipython",
    "version": 3
   },
   "file_extension": ".py",
   "mimetype": "text/x-python",
   "name": "python",
   "nbconvert_exporter": "python",
   "pygments_lexer": "ipython3",
   "version": "3.5.2"
  },
  "widgets": {
   "application/vnd.jupyter.widget-state+json": {
    "state": {
     "00949c38bbff426f8a8c8a32df735cad": {
      "model_module": "jupyter-leaflet",
      "model_module_version": "*",
      "model_name": "LeafletGeoJSONModel",
      "state": {
       "_model_module_version": "*",
       "_view_module_version": "*",
       "data": {
        "coordinates": [
         10.5,
         51.5
        ],
        "type": "Point"
       },
       "msg_throttle": 1
      }
     },
     "011f156c1da64905a6932fd95141364a": {
      "model_module": "jupyter-leaflet",
      "model_module_version": "*",
      "model_name": "LeafletGeoJSONModel",
      "state": {
       "_model_module_version": "*",
       "_view_module_version": "*",
       "data": {
        "coordinates": [
         90.5,
         27.5
        ],
        "type": "Point"
       },
       "msg_throttle": 1
      }
     },
     "03400980875c4a36be7c0c66d85baf88": {
      "model_module": "jupyter-leaflet",
      "model_module_version": "*",
      "model_name": "LeafletGeoJSONModel",
      "state": {
       "_model_module_version": "*",
       "_view_module_version": "*",
       "data": {
        "coordinates": [
         8,
         10
        ],
        "type": "Point"
       },
       "msg_throttle": 1
      }
     },
     "0468bdf0a97548f0b30d521562d4c9a4": {
      "model_module": "jupyter-leaflet",
      "model_module_version": "*",
      "model_name": "LeafletGeoJSONModel",
      "state": {
       "_model_module_version": "*",
       "_view_module_version": "*",
       "data": {
        "coordinates": [
         45,
         25
        ],
        "type": "Point"
       },
       "msg_throttle": 1
      }
     },
     "0518bb049da04b8087be82233227e447": {
      "model_module": "jupyter-leaflet",
      "model_module_version": "*",
      "model_name": "LeafletGeoJSONModel",
      "state": {
       "_model_module_version": "*",
       "_view_module_version": "*",
       "data": {
        "coordinates": [
         21,
         42.583333
        ],
        "type": "Point"
       },
       "msg_throttle": 1
      }
     },
     "05b0cad9f194470f87cc2f52a69f7b50": {
      "model_module": "jupyter-leaflet",
      "model_module_version": "*",
      "model_name": "LeafletGeoJSONModel",
      "state": {
       "_model_module_version": "*",
       "_view_module_version": "*",
       "data": {
        "coordinates": [
         45,
         40
        ],
        "type": "Point"
       },
       "msg_throttle": 1
      }
     },
     "05e7e091a30f4a92b4772de0ad38564c": {
      "model_module": "jupyter-leaflet",
      "model_module_version": "*",
      "model_name": "LeafletGeoJSONModel",
      "state": {
       "_model_module_version": "*",
       "_view_module_version": "*",
       "data": {
        "coordinates": [
         -4,
         40
        ],
        "type": "Point"
       },
       "msg_throttle": 1
      }
     },
     "078085a643244bd6888ecbb3518f6647": {
      "model_module": "bqplot",
      "model_module_version": "^0.2.3",
      "model_name": "AxisModel",
      "state": {
       "scale": "IPY_MODEL_4dee658595d8436cbeed76e864001212",
       "side": "bottom",
       "tick_values": {
        "type": null,
        "values": null
       }
      }
     },
     "0880c131228c4bd7becae6da43585b04": {
      "model_module": "jupyter-leaflet",
      "model_module_version": "*",
      "model_name": "LeafletGeoJSONModel",
      "state": {
       "_model_module_version": "*",
       "_view_module_version": "*",
       "data": {
        "coordinates": [
         72,
         -6
        ],
        "type": "Point"
       },
       "msg_throttle": 1
      }
     },
     "0886a224ea9c4c8aae96a36ed125f194": {
      "model_module": "jupyter-leaflet",
      "model_module_version": "*",
      "model_name": "LeafletGeoJSONModel",
      "state": {
       "_model_module_version": "*",
       "_view_module_version": "*",
       "data": {
        "coordinates": [
         21,
         44
        ],
        "type": "Point"
       },
       "msg_throttle": 1
      }
     },
     "08a0dc1a42f04653b23819ede28c7aa7": {
      "model_module": "jupyter-leaflet",
      "model_module_version": "*",
      "model_name": "LeafletGeoJSONModel",
      "state": {
       "_model_module_version": "*",
       "_view_module_version": "*",
       "data": {
        "coordinates": [
         81,
         7
        ],
        "type": "Point"
       },
       "msg_throttle": 1
      }
     },
     "08caa9a0964048a1a7ff50b589476405": {
      "model_module": "jupyter-leaflet",
      "model_module_version": "*",
      "model_name": "LeafletGeoJSONModel",
      "state": {
       "_model_module_version": "*",
       "_view_module_version": "*",
       "data": {
        "coordinates": [
         32,
         49
        ],
        "type": "Point"
       },
       "msg_throttle": 1
      }
     },
     "092250e9441841309a88cd559cc3e6b0": {
      "model_module": "jupyter-leaflet",
      "model_module_version": "*",
      "model_name": "LeafletFeatureGroupModel",
      "state": {
       "_model_module_version": "*",
       "_view_module_version": "*",
       "msg_throttle": 1
      }
     },
     "0b958f3837ed42b19288d5cf94ed4f5c": {
      "model_module": "jupyter-leaflet",
      "model_module_version": "*",
      "model_name": "LeafletGeoJSONModel",
      "state": {
       "_model_module_version": "*",
       "_view_module_version": "*",
       "data": {
        "coordinates": [
         121,
         24
        ],
        "type": "Point"
       },
       "msg_throttle": 1
      }
     },
     "0bb324ffd839411bb5663d56f6a29b6d": {
      "model_module": "jupyter-leaflet",
      "model_module_version": "*",
      "model_name": "LeafletGeoJSONModel",
      "state": {
       "_model_module_version": "*",
       "_view_module_version": "*",
       "data": {
        "coordinates": [
         -9.5,
         6.5
        ],
        "type": "Point"
       },
       "msg_throttle": 1
      }
     },
     "0be2bdc6706d4591ad5f1bf814bad82a": {
      "model_module": "jupyter-leaflet",
      "model_module_version": "*",
      "model_name": "LeafletGeoJSONModel",
      "state": {
       "_model_module_version": "*",
       "_view_module_version": "*",
       "data": {
        "coordinates": [
         19.3,
         42.5
        ],
        "type": "Point"
       },
       "msg_throttle": 1
      }
     },
     "0c0a91c55a0b4964aef0512a8994cd53": {
      "model_module": "jupyter-leaflet",
      "model_module_version": "*",
      "model_name": "LeafletGeoJSONModel",
      "state": {
       "_model_module_version": "*",
       "_view_module_version": "*",
       "data": {
        "coordinates": [
         146,
         16
        ],
        "type": "Point"
       },
       "msg_throttle": 1
      }
     },
     "0d0a03d7357b424ab02e7f74e42eef31": {
      "model_module": "jupyter-leaflet",
      "model_module_version": "*",
      "model_name": "LeafletGeoJSONModel",
      "state": {
       "_model_module_version": "*",
       "_view_module_version": "*",
       "data": {
        "coordinates": [
         8,
         16
        ],
        "type": "Point"
       },
       "msg_throttle": 1
      }
     },
     "0ed1367bb4fc48688aa1ed450d9eaaa1": {
      "model_module": "jupyter-leaflet",
      "model_module_version": "*",
      "model_name": "LeafletGeoJSONModel",
      "state": {
       "_model_module_version": "*",
       "_view_module_version": "*",
       "data": {
        "coordinates": [
         122,
         13
        ],
        "type": "Point"
       },
       "msg_throttle": 1
      }
     },
     "0ee05d6623d045b4b72bc84fc537685e": {
      "model_module": "jupyter-leaflet",
      "model_module_version": "*",
      "model_name": "LeafletGeoJSONModel",
      "state": {
       "_model_module_version": "*",
       "_view_module_version": "*",
       "data": {
        "coordinates": [
         35.25,
         31.666667
        ],
        "type": "Point"
       },
       "msg_throttle": 1
      }
     },
     "11b32b67c33b4ef499c14f59dc8f690a": {
      "model_module": "jupyter-leaflet",
      "model_module_version": "*",
      "model_name": "LeafletGeoJSONModel",
      "state": {
       "_model_module_version": "*",
       "_view_module_version": "*",
       "data": {
        "coordinates": [
         -8,
         39.5
        ],
        "type": "Point"
       },
       "msg_throttle": 1
      }
     },
     "1332ad17771e4e479a9d260a64d44daf": {
      "model_module": "jupyter-leaflet",
      "model_module_version": "*",
      "model_name": "LeafletGeoJSONModel",
      "state": {
       "_model_module_version": "*",
       "_view_module_version": "*",
       "data": {
        "coordinates": [
         20,
         41
        ],
        "type": "Point"
       },
       "msg_throttle": 1
      }
     },
     "1580d2090f034c59a652241757c89c22": {
      "model_module": "jupyter-leaflet",
      "model_module_version": "*",
      "model_name": "LeafletGeoJSONModel",
      "state": {
       "_model_module_version": "*",
       "_view_module_version": "*",
       "data": {
        "coordinates": [
         -5.7,
         -15.95
        ],
        "type": "Point"
       },
       "msg_throttle": 1
      }
     },
     "17a0207e08f64cb6a6f00c1e3efd2167": {
      "model_module": "jupyter-leaflet",
      "model_module_version": "*",
      "model_name": "LeafletGeoJSONModel",
      "state": {
       "_model_module_version": "*",
       "_view_module_version": "*",
       "data": {
        "coordinates": [
         138,
         36
        ],
        "type": "Point"
       },
       "msg_throttle": 1
      }
     },
     "17cd3e66f0aa4d24a0435c1d8deaa9f9": {
      "model_module": "jupyter-leaflet",
      "model_module_version": "*",
      "model_name": "LeafletGeoJSONModel",
      "state": {
       "_model_module_version": "*",
       "_view_module_version": "*",
       "data": {
        "coordinates": [
         22,
         41.833333
        ],
        "type": "Point"
       },
       "msg_throttle": 1
      }
     },
     "187aff6adfa44c7a9c3067f95c4aa2e2": {
      "model_module": "jupyter-leaflet",
      "model_module_version": "*",
      "model_name": "LeafletGeoJSONModel",
      "state": {
       "_model_module_version": "*",
       "_view_module_version": "*",
       "data": {
        "coordinates": [
         29,
         47
        ],
        "type": "Point"
       },
       "msg_throttle": 1
      }
     },
     "1953c048c413479696742aca1ee6f306": {
      "model_module": "jupyter-leaflet",
      "model_module_version": "*",
      "model_name": "LeafletGeoJSONModel",
      "state": {
       "_model_module_version": "*",
       "_view_module_version": "*",
       "data": {
        "coordinates": [
         -66,
         8
        ],
        "type": "Point"
       },
       "msg_throttle": 1
      }
     },
     "195f2dc23f3f450eadb57daa16584a65": {
      "model_module": "jupyter-leaflet",
      "model_module_version": "*",
      "model_name": "LeafletGeoJSONModel",
      "state": {
       "_model_module_version": "*",
       "_view_module_version": "*",
       "data": {
        "coordinates": [
         -72,
         4
        ],
        "type": "Point"
       },
       "msg_throttle": 1
      }
     },
     "1abd3eb097b346c6aee7898fe9e30690": {
      "model_module": "jupyter-leaflet",
      "model_module_version": "*",
      "model_name": "LeafletGeoJSONModel",
      "state": {
       "_model_module_version": "*",
       "_view_module_version": "*",
       "data": {
        "coordinates": [
         105.666667,
         -10.5
        ],
        "type": "Point"
       },
       "msg_throttle": 1
      }
     },
     "1b997e5559c54ba98e8dd6038ee196e4": {
      "model_module": "jupyter-leaflet",
      "model_module_version": "*",
      "model_name": "LeafletGeoJSONModel",
      "state": {
       "_model_module_version": "*",
       "_view_module_version": "*",
       "data": {
        "coordinates": [
         25,
         43
        ],
        "type": "Point"
       },
       "msg_throttle": 1
      }
     },
     "1bdb8dc64958459d9eb2013459959fb9": {
      "model_module": "jupyter-leaflet",
      "model_module_version": "*",
      "model_name": "LeafletGeoJSONModel",
      "state": {
       "_model_module_version": "*",
       "_view_module_version": "*",
       "data": {
        "coordinates": [
         73,
         3.2
        ],
        "type": "Point"
       },
       "msg_throttle": 1
      }
     },
     "1ee54a4272a041aa8ad3caee348a84da": {
      "model_module": "jupyter-leaflet",
      "model_module_version": "*",
      "model_name": "LeafletGeoJSONModel",
      "state": {
       "_model_module_version": "*",
       "_view_module_version": "*",
       "data": {
        "coordinates": [
         77,
         20
        ],
        "type": "Point"
       },
       "msg_throttle": 1
      }
     },
     "1f25fb38d52f472789344b5723cfe5b7": {
      "model_module": "jupyter-leaflet",
      "model_module_version": "*",
      "model_name": "LeafletGeoJSONModel",
      "state": {
       "_model_module_version": "*",
       "_view_module_version": "*",
       "data": {
        "coordinates": [
         71,
         39
        ],
        "type": "Point"
       },
       "msg_throttle": 1
      }
     },
     "1f2c7e5c464041c98406901613469185": {
      "model_module": "jupyter-leaflet",
      "model_module_version": "*",
      "model_name": "LeafletGeoJSONModel",
      "state": {
       "_model_module_version": "*",
       "_view_module_version": "*",
       "data": {
        "coordinates": [
         51.25,
         25.5
        ],
        "type": "Point"
       },
       "msg_throttle": 1
      }
     },
     "2093670b89274f8aa88cb5a06524c8d9": {
      "model_module": "jupyter-leaflet",
      "model_module_version": "*",
      "model_name": "LeafletGeoJSONModel",
      "state": {
       "_model_module_version": "*",
       "_view_module_version": "*",
       "data": {
        "coordinates": [
         -64.75,
         32.333333
        ],
        "type": "Point"
       },
       "msg_throttle": 1
      }
     },
     "2166ef8fd662426590fdf5f58f3e8f58": {
      "model_module": "jupyter-leaflet",
      "model_module_version": "*",
      "model_name": "LeafletGeoJSONModel",
      "state": {
       "_model_module_version": "*",
       "_view_module_version": "*",
       "data": {
        "coordinates": [
         7,
         1
        ],
        "type": "Point"
       },
       "msg_throttle": 1
      }
     },
     "23ce3d96ceb74084a31758dd07113094": {
      "model_module": "jupyter-leaflet",
      "model_module_version": "*",
      "model_name": "LeafletGeoJSONModel",
      "state": {
       "_model_module_version": "*",
       "_view_module_version": "*",
       "data": {
        "coordinates": [
         123.333333,
         -12.416667
        ],
        "type": "Point"
       },
       "msg_throttle": 1
      }
     },
     "24c0783e80ad4952ab94d51897d494de": {
      "model_module": "jupyter-leaflet",
      "model_module_version": "*",
      "model_name": "LeafletGeoJSONModel",
      "state": {
       "_model_module_version": "*",
       "_view_module_version": "*",
       "data": {
        "coordinates": [
         -172.178309,
         -13.803096
        ],
        "type": "Point"
       },
       "msg_throttle": 1
      }
     },
     "2582a0a2b044447984b72bfb885b127b": {
      "model_module": "jupyter-leaflet",
      "model_module_version": "*",
      "model_name": "LeafletGeoJSONModel",
      "state": {
       "_model_module_version": "*",
       "_view_module_version": "*",
       "data": {
        "coordinates": [
         147,
         -6
        ],
        "type": "Point"
       },
       "msg_throttle": 1
      }
     },
     "258865e6950f42dcb6c4ec0fa79849f4": {
      "model_module": "jupyter-leaflet",
      "model_module_version": "*",
      "model_name": "LeafletGeoJSONModel",
      "state": {
       "_model_module_version": "*",
       "_view_module_version": "*",
       "data": {
        "coordinates": [
         -69,
         12.166667
        ],
        "type": "Point"
       },
       "msg_throttle": 1
      }
     },
     "264a0f650d26479f9d2453a5d165cee2": {
      "model_module": "jupyter-leaflet",
      "model_module_version": "*",
      "model_name": "LeafletGeoJSONModel",
      "state": {
       "_model_module_version": "*",
       "_view_module_version": "*",
       "data": {
        "coordinates": [
         17,
         -22
        ],
        "type": "Point"
       },
       "msg_throttle": 1
      }
     },
     "275f27334c0a4181bdf2feb0842da35d": {
      "model_module": "jupyter-leaflet",
      "model_module_version": "*",
      "model_name": "LeafletGeoJSONModel",
      "state": {
       "_model_module_version": "*",
       "_view_module_version": "*",
       "data": {
        "coordinates": [
         178,
         -18
        ],
        "type": "Point"
       },
       "msg_throttle": 1
      }
     },
     "28b511c0b9cc46c2be12b52fe2a3503a": {
      "model_module": "jupyter-leaflet",
      "model_module_version": "*",
      "model_name": "LeafletGeoJSONModel",
      "state": {
       "_model_module_version": "*",
       "_view_module_version": "*",
       "data": {
        "coordinates": [
         125.75,
         -8.833333
        ],
        "type": "Point"
       },
       "msg_throttle": 1
      }
     },
     "28b91151420a4ae8b9f7fff2c832baf9": {
      "model_module": "jupyter-leaflet",
      "model_module_version": "*",
      "model_name": "LeafletGeoJSONModel",
      "state": {
       "_model_module_version": "*",
       "_view_module_version": "*",
       "data": {
        "coordinates": [
         114.666667,
         4.5
        ],
        "type": "Point"
       },
       "msg_throttle": 1
      }
     },
     "28e3a4761e7448f0a98f8f2379131932": {
      "model_module": "jupyter-leaflet",
      "model_module_version": "*",
      "model_name": "LeafletGeoJSONModel",
      "state": {
       "_model_module_version": "*",
       "_view_module_version": "*",
       "data": {
        "coordinates": [
         19,
         15
        ],
        "type": "Point"
       },
       "msg_throttle": 1
      }
     },
     "2c4e4faa5e3e4e128232e5c9f099dd3a": {
      "model_module": "jupyter-leaflet",
      "model_module_version": "*",
      "model_name": "LeafletGeoJSONModel",
      "state": {
       "_model_module_version": "*",
       "_view_module_version": "*",
       "data": {
        "coordinates": [
         35.833333,
         33.833333
        ],
        "type": "Point"
       },
       "msg_throttle": 1
      }
     },
     "2cf0655c06cd490399981f7f01e12fae": {
      "model_module": "jupyter-leaflet",
      "model_module_version": "*",
      "model_name": "LeafletGeoJSONModel",
      "state": {
       "_model_module_version": "*",
       "_view_module_version": "*",
       "data": {
        "coordinates": [
         -84,
         10
        ],
        "type": "Point"
       },
       "msg_throttle": 1
      }
     },
     "2d02ee1e9c48491da13c64fd93ebbe35": {
      "model_module": "jupyter-leaflet",
      "model_module_version": "*",
      "model_name": "LeafletGeoJSONModel",
      "state": {
       "_model_module_version": "*",
       "_view_module_version": "*",
       "data": {
        "coordinates": [
         -102,
         23
        ],
        "type": "Point"
       },
       "msg_throttle": 1
      }
     },
     "2d362a2f3895450e95e80536b6217348": {
      "model_module": "jupyter-leaflet",
      "model_module_version": "*",
      "model_name": "LeafletGeoJSONModel",
      "state": {
       "_model_module_version": "*",
       "_view_module_version": "*",
       "data": {
        "coordinates": [
         -13.5,
         25
        ],
        "type": "Point"
       },
       "msg_throttle": 1
      }
     },
     "305f31c710a743be9f6f8f6fc2945d69": {
      "model_module": "jupyter-leaflet",
      "model_module_version": "*",
      "model_name": "LeafletGeoJSONModel",
      "state": {
       "_model_module_version": "*",
       "_view_module_version": "*",
       "data": {
        "coordinates": [
         30,
         27
        ],
        "type": "Point"
       },
       "msg_throttle": 1
      }
     },
     "3187408df3604a009946d7d83e12df2a": {
      "model_module": "jupyter-leaflet",
      "model_module_version": "*",
      "model_name": "LeafletGeoJSONModel",
      "state": {
       "_model_module_version": "*",
       "_view_module_version": "*",
       "data": {
        "coordinates": [
         -72.416667,
         19
        ],
        "type": "Point"
       },
       "msg_throttle": 1
      }
     },
     "31d2d4e6e6dd4389af163648786d6164": {
      "model_module": "jupyter-leaflet",
      "model_module_version": "*",
      "model_name": "LeafletGeoJSONModel",
      "state": {
       "_model_module_version": "*",
       "_view_module_version": "*",
       "data": {
        "coordinates": [
         -59,
         5
        ],
        "type": "Point"
       },
       "msg_throttle": 1
      }
     },
     "33cc6563c52e405a9760bc38ba6a42e1": {
      "model_module": "jupyter-leaflet",
      "model_module_version": "*",
      "model_name": "LeafletGeoJSONModel",
      "state": {
       "_model_module_version": "*",
       "_view_module_version": "*",
       "data": {
        "coordinates": [
         11.75,
         -1
        ],
        "type": "Point"
       },
       "msg_throttle": 1
      }
     },
     "34d7ab9bc7ca4cf180b4d34dd4777ad3": {
      "model_module": "jupyter-leaflet",
      "model_module_version": "*",
      "model_name": "LeafletGeoJSONModel",
      "state": {
       "_model_module_version": "*",
       "_view_module_version": "*",
       "data": {
        "coordinates": [
         -77.5,
         18.25
        ],
        "type": "Point"
       },
       "msg_throttle": 1
      }
     },
     "3809033e1c634af7ad9922c9a48f3525": {
      "model_module": "jupyter-leaflet",
      "model_module_version": "*",
      "model_name": "LeafletGeoJSONModel",
      "state": {
       "_model_module_version": "*",
       "_view_module_version": "*",
       "data": {
        "coordinates": [
         -79.5,
         22
        ],
        "type": "Point"
       },
       "msg_throttle": 1
      }
     },
     "3a06d6703f16427f9e5e5b5e0bea5f7f": {
      "model_module": "jupyter-leaflet",
      "model_module_version": "*",
      "model_name": "LeafletGeoJSONModel",
      "state": {
       "_model_module_version": "*",
       "_view_module_version": "*",
       "data": {
        "coordinates": [
         55.6,
         -21.1
        ],
        "type": "Point"
       },
       "msg_throttle": 1
      }
     },
     "3a078198348b49d7a2737b40a03bd2c2": {
      "model_module": "jupyter-leaflet",
      "model_module_version": "*",
      "model_name": "LeafletGeoJSONModel",
      "state": {
       "_model_module_version": "*",
       "_view_module_version": "*",
       "data": {
        "coordinates": [
         34.75,
         31.5
        ],
        "type": "Point"
       },
       "msg_throttle": 1
      }
     },
     "3af86385f000429d9a10bc1cc300ac4a": {
      "model_module": "jupyter-leaflet",
      "model_module_version": "*",
      "model_name": "LeafletGeoJSONModel",
      "state": {
       "_model_module_version": "*",
       "_view_module_version": "*",
       "data": {
        "coordinates": [
         -130.1,
         -25.066667
        ],
        "type": "Point"
       },
       "msg_throttle": 1
      }
     },
     "3b78e99ad40348e19e3c5a3147c9a223": {
      "model_module": "jupyter-leaflet",
      "model_module_version": "*",
      "model_name": "LeafletGeoJSONModel",
      "state": {
       "_model_module_version": "*",
       "_view_module_version": "*",
       "data": {
        "coordinates": [
         9,
         34
        ],
        "type": "Point"
       },
       "msg_throttle": 1
      }
     },
     "3baf4a1fbff44478bf59cc1ec5ba5865": {
      "model_module": "jupyter-leaflet",
      "model_module_version": "*",
      "model_name": "LeafletGeoJSONModel",
      "state": {
       "_model_module_version": "*",
       "_view_module_version": "*",
       "data": {
        "coordinates": [
         10,
         2
        ],
        "type": "Point"
       },
       "msg_throttle": 1
      }
     },
     "3d59b63602354dd1b9f0a88ef0c70587": {
      "model_module": "jupyter-leaflet",
      "model_module_version": "*",
      "model_name": "LeafletGeoJSONModel",
      "state": {
       "_model_module_version": "*",
       "_view_module_version": "*",
       "data": {
        "coordinates": [
         -56.333333,
         46.833333
        ],
        "type": "Point"
       },
       "msg_throttle": 1
      }
     },
     "3dc72cbd24bb4dcfbccf524dad8c0291": {
      "model_module": "jupyter-leaflet",
      "model_module_version": "*",
      "model_name": "LeafletGeoJSONModel",
      "state": {
       "_model_module_version": "*",
       "_view_module_version": "*",
       "data": {
        "coordinates": [
         67,
         -43
        ],
        "type": "Point"
       },
       "msg_throttle": 1
      }
     },
     "3de6debe9a2b44bf8270e2363102bda5": {
      "model_module": "jupyter-leaflet",
      "model_module_version": "*",
      "model_name": "LeafletGeoJSONModel",
      "state": {
       "_model_module_version": "*",
       "_view_module_version": "*",
       "data": {
        "coordinates": [
         -61.2,
         13.083333
        ],
        "type": "Point"
       },
       "msg_throttle": 1
      }
     },
     "3f066387acca4275b8a4413d30563e20": {
      "model_module": "jupyter-leaflet",
      "model_module_version": "*",
      "model_name": "LeafletGeoJSONModel",
      "state": {
       "_model_module_version": "*",
       "_view_module_version": "*",
       "data": {
        "coordinates": [
         -64.5,
         18.5
        ],
        "type": "Point"
       },
       "msg_throttle": 1
      }
     },
     "3f43aed71b0d4b698912b728efd91e9e": {
      "model_module": "jupyter-leaflet",
      "model_module_version": "*",
      "model_name": "LeafletGeoJSONModel",
      "state": {
       "_model_module_version": "*",
       "_view_module_version": "*",
       "data": {
        "coordinates": [
         96.833333,
         -12
        ],
        "type": "Point"
       },
       "msg_throttle": 1
      }
     },
     "40dafec5d7d94b12be2446ff893e5ed0": {
      "model_module": "jupyter-leaflet",
      "model_module_version": "*",
      "model_name": "LeafletGeoJSONModel",
      "state": {
       "_model_module_version": "*",
       "_view_module_version": "*",
       "data": {
        "coordinates": [
         -69.966667,
         12.5
        ],
        "type": "Point"
       },
       "msg_throttle": 1
      }
     },
     "40ed201250fb4b289b2539986a95d8d5": {
      "model_module": "jupyter-leaflet",
      "model_module_version": "*",
      "model_name": "LeafletGeoJSONModel",
      "state": {
       "_model_module_version": "*",
       "_view_module_version": "*",
       "data": {
        "coordinates": [
         42.71667,
         -17.05833
        ],
        "type": "Point"
       },
       "msg_throttle": 1
      }
     },
     "410e0105742f489a96765e5558250ced": {
      "model_module": "jupyter-leaflet",
      "model_module_version": "*",
      "model_name": "LeafletGeoJSONModel",
      "state": {
       "_model_module_version": "*",
       "_view_module_version": "*",
       "data": {
        "coordinates": [
         90,
         24
        ],
        "type": "Point"
       },
       "msg_throttle": 1
      }
     },
     "45005170501a453d896cf7c670cf10a1": {
      "model_module": "jupyter-leaflet",
      "model_module_version": "*",
      "model_name": "LeafletGeoJSONModel",
      "state": {
       "_model_module_version": "*",
       "_view_module_version": "*",
       "data": {
        "coordinates": [
         21,
         7
        ],
        "type": "Point"
       },
       "msg_throttle": 1
      }
     },
     "46096ab760d14beba823ac559d7a1ea3": {
      "model_module": "jupyter-js-widgets",
      "model_module_version": "~2.1.4",
      "model_name": "HBoxModel",
      "state": {
       "_model_module_version": "~2.1.4",
       "_view_module_version": "~2.1.4",
       "children": [
        "IPY_MODEL_7064e72fd77b48e3814eb3d916a54102",
        "IPY_MODEL_a6b5c8ceed174dde858c7562fdd6f57f"
       ],
       "layout": "IPY_MODEL_9b0a53cb7722468abf8943f9e74ebafa"
      }
     },
     "4808d953849e4defaef3838fae21f88e": {
      "model_module": "jupyter-leaflet",
      "model_module_version": "*",
      "model_name": "LeafletGeoJSONModel",
      "state": {
       "_model_module_version": "*",
       "_view_module_version": "*",
       "data": {
        "coordinates": [
         1.166667,
         8
        ],
        "type": "Point"
       },
       "msg_throttle": 1
      }
     },
     "49f38163ba644a35b0e03b7ff814c27a": {
      "model_module": "jupyter-leaflet",
      "model_module_version": "*",
      "model_name": "LeafletGeoJSONModel",
      "state": {
       "_model_module_version": "*",
       "_view_module_version": "*",
       "data": {
        "coordinates": [
         40.366667,
         -22.333333
        ],
        "type": "Point"
       },
       "msg_throttle": 1
      }
     },
     "4ab4d07e41fd47788a5730c5161e6297": {
      "model_module": "jupyter-leaflet",
      "model_module_version": "*",
      "model_name": "LeafletGeoJSONModel",
      "state": {
       "_model_module_version": "*",
       "_view_module_version": "*",
       "data": {
        "coordinates": [
         30,
         16
        ],
        "type": "Point"
       },
       "msg_throttle": 1
      }
     },
     "4b6ac551ac324e62bbac46ff80ddb900": {
      "model_module": "jupyter-leaflet",
      "model_module_version": "*",
      "model_name": "LeafletGeoJSONModel",
      "state": {
       "_model_module_version": "*",
       "_view_module_version": "*",
       "data": {
        "coordinates": [
         -170,
         -14.333333
        ],
        "type": "Point"
       },
       "msg_throttle": 1
      }
     },
     "4d0056da35a3408b98664e166ebf4b62": {
      "model_module": "jupyter-leaflet",
      "model_module_version": "*",
      "model_name": "LeafletGeoJSONModel",
      "state": {
       "_model_module_version": "*",
       "_view_module_version": "*",
       "data": {
        "coordinates": [
         25,
         57
        ],
        "type": "Point"
       },
       "msg_throttle": 1
      }
     },
     "4d2e89a8979a43ffbfff0f8805969fe9": {
      "model_module": "bqplot",
      "model_module_version": "^0.2.3",
      "model_name": "LinearScaleModel",
      "state": {
       "stabilized": false
      }
     },
     "4d31c4c9422d4a82b117c5a522f11e35": {
      "model_module": "jupyter-leaflet",
      "model_module_version": "*",
      "model_name": "LeafletGeoJSONModel",
      "state": {
       "_model_module_version": "*",
       "_view_module_version": "*",
       "data": {
        "coordinates": [
         -65,
         -17
        ],
        "type": "Point"
       },
       "msg_throttle": 1
      }
     },
     "4dc52a6b1fd24e83902b98133c015991": {
      "model_module": "jupyter-leaflet",
      "model_module_version": "*",
      "model_name": "LeafletGeoJSONModel",
      "state": {
       "_model_module_version": "*",
       "_view_module_version": "*",
       "data": {
        "coordinates": [
         -61.666667,
         12.116667
        ],
        "type": "Point"
       },
       "msg_throttle": 1
      }
     },
     "4dee658595d8436cbeed76e864001212": {
      "model_module": "bqplot",
      "model_module_version": "^0.2.3",
      "model_name": "OrdinalScaleModel",
      "state": {
       "domain": []
      }
     },
     "4e5f3a16fb974bc09b7825530e77d378": {
      "model_module": "jupyter-leaflet",
      "model_module_version": "*",
      "model_name": "LeafletGeoJSONModel",
      "state": {
       "_model_module_version": "*",
       "_view_module_version": "*",
       "data": {
        "coordinates": [
         33,
         2
        ],
        "type": "Point"
       },
       "msg_throttle": 1
      }
     },
     "4eed9bf0a169409e9f1e23ffd2933484": {
      "model_module": "jupyter-leaflet",
      "model_module_version": "*",
      "model_name": "LeafletGeoJSONModel",
      "state": {
       "_model_module_version": "*",
       "_view_module_version": "*",
       "data": {
        "coordinates": [
         38,
         35
        ],
        "type": "Point"
       },
       "msg_throttle": 1
      }
     },
     "502d060b137c42dd8860478ec2263daa": {
      "model_module": "jupyter-leaflet",
      "model_module_version": "*",
      "model_name": "LeafletGeoJSONModel",
      "state": {
       "_model_module_version": "*",
       "_view_module_version": "*",
       "data": {
        "coordinates": [
         38,
         8
        ],
        "type": "Point"
       },
       "msg_throttle": 1
      }
     },
     "54767754360c4d6fa4a65735cb4a51a6": {
      "model_module": "jupyter-leaflet",
      "model_module_version": "*",
      "model_name": "LeafletGeoJSONModel",
      "state": {
       "_model_module_version": "*",
       "_view_module_version": "*",
       "data": {
        "coordinates": [
         114.166667,
         22.25
        ],
        "type": "Point"
       },
       "msg_throttle": 1
      }
     },
     "54f125d5ab3647958860f037bf10a8c6": {
      "model_module": "jupyter-leaflet",
      "model_module_version": "*",
      "model_name": "LeafletGeoJSONModel",
      "state": {
       "_model_module_version": "*",
       "_view_module_version": "*",
       "data": {
        "coordinates": [
         43.499905,
         41.999981
        ],
        "type": "Point"
       },
       "msg_throttle": 1
      }
     },
     "552be316cc10476e816ae29b7c4bb58c": {
      "model_module": "jupyter-leaflet",
      "model_module_version": "*",
      "model_name": "LeafletGeoJSONModel",
      "state": {
       "_model_module_version": "*",
       "_view_module_version": "*",
       "data": {
        "coordinates": [
         -62.833333,
         17.9
        ],
        "type": "Point"
       },
       "msg_throttle": 1
      }
     },
     "558b15c5bad94e91ae6600916d69d40d": {
      "model_module": "jupyter-leaflet",
      "model_module_version": "*",
      "model_name": "LeafletGeoJSONModel",
      "state": {
       "_model_module_version": "*",
       "_view_module_version": "*",
       "data": {
        "coordinates": [
         -2,
         13
        ],
        "type": "Point"
       },
       "msg_throttle": 1
      }
     },
     "58d98f8d2fc34f95b79f21b3ce12dbed": {
      "model_module": "jupyter-leaflet",
      "model_module_version": "*",
      "model_name": "LeafletGeoJSONModel",
      "state": {
       "_model_module_version": "*",
       "_view_module_version": "*",
       "data": {
        "coordinates": [
         12.416667,
         43.933333
        ],
        "type": "Point"
       },
       "msg_throttle": 1
      }
     },
     "5c06c5b5f67b424b962089e41f5c2129": {
      "model_module": "jupyter-leaflet",
      "model_module_version": "*",
      "model_name": "LeafletGeoJSONModel",
      "state": {
       "_model_module_version": "*",
       "_view_module_version": "*",
       "data": {
        "coordinates": [
         -80,
         9
        ],
        "type": "Point"
       },
       "msg_throttle": 1
      }
     },
     "5c2f9bf41be1473c8d0b2d502a204a33": {
      "model_module": "jupyter-leaflet",
      "model_module_version": "*",
      "model_name": "LeafletGeoJSONModel",
      "state": {
       "_model_module_version": "*",
       "_view_module_version": "*",
       "data": {
        "coordinates": [
         44.25,
         -12.166667
        ],
        "type": "Point"
       },
       "msg_throttle": 1
      }
     },
     "5c31dd0fb89042dba08ec646230c4d3b": {
      "model_module": "jupyter-js-widgets",
      "model_module_version": "~2.1.4",
      "model_name": "LayoutModel",
      "state": {
       "_model_module_version": "~2.1.4",
       "_view_module_version": "~2.1.4",
       "min_width": "55%"
      }
     },
     "5da54d17ba2b4c84a19f6e4a472ff1c0": {
      "model_module": "jupyter-leaflet",
      "model_module_version": "*",
      "model_name": "LeafletGeoJSONModel",
      "state": {
       "_model_module_version": "*",
       "_view_module_version": "*",
       "data": {
        "coordinates": [
         -11.5,
         8.5
        ],
        "type": "Point"
       },
       "msg_throttle": 1
      }
     },
     "5e30619cfed8490f8022d5dd0b459760": {
      "model_module": "jupyter-leaflet",
      "model_module_version": "*",
      "model_name": "LeafletGeoJSONModel",
      "state": {
       "_model_module_version": "*",
       "_view_module_version": "*",
       "data": {
        "coordinates": [
         -64,
         -34
        ],
        "type": "Point"
       },
       "msg_throttle": 1
      }
     },
     "5e9e2b6fb7ab47039a199994a9e4240e": {
      "model_module": "jupyter-leaflet",
      "model_module_version": "*",
      "model_name": "LeafletGeoJSONModel",
      "state": {
       "_model_module_version": "*",
       "_view_module_version": "*",
       "data": {
        "coordinates": [
         105,
         35
        ],
        "type": "Point"
       },
       "msg_throttle": 1
      }
     },
     "5eb1127228cc4b3d98845008ac0aaa98": {
      "model_module": "jupyter-leaflet",
      "model_module_version": "*",
      "model_name": "LeafletGeoJSONModel",
      "state": {
       "_model_module_version": "*",
       "_view_module_version": "*",
       "data": {
        "coordinates": [
         -12,
         20
        ],
        "type": "Point"
       },
       "msg_throttle": 1
      }
     },
     "5eebdd6d08e84a928deb57f978052388": {
      "model_module": "jupyter-leaflet",
      "model_module_version": "*",
      "model_name": "LeafletGeoJSONModel",
      "state": {
       "_model_module_version": "*",
       "_view_module_version": "*",
       "data": {
        "coordinates": [
         -88.75,
         17.25
        ],
        "type": "Point"
       },
       "msg_throttle": 1
      }
     },
     "5f5193e9e79042bcbcd14a1fffdaf70a": {
      "model_module": "jupyter-leaflet",
      "model_module_version": "*",
      "model_name": "LeafletGeoJSONModel",
      "state": {
       "_model_module_version": "*",
       "_view_module_version": "*",
       "data": {
        "coordinates": [
         165.5,
         -21.5
        ],
        "type": "Point"
       },
       "msg_throttle": 1
      }
     },
     "630ec532f18548ec9d029f1b792989d2": {
      "model_module": "jupyter-leaflet",
      "model_module_version": "*",
      "model_name": "LeafletGeoJSONModel",
      "state": {
       "_model_module_version": "*",
       "_view_module_version": "*",
       "data": {
        "coordinates": [
         18.5,
         -12.5
        ],
        "type": "Point"
       },
       "msg_throttle": 1
      }
     },
     "63133f823f6c419e9a013efa5c97260a": {
      "model_module": "jupyter-leaflet",
      "model_module_version": "*",
      "model_name": "LeafletGeoJSONModel",
      "state": {
       "_model_module_version": "*",
       "_view_module_version": "*",
       "data": {
        "coordinates": [
         152,
         5
        ],
        "type": "Point"
       },
       "msg_throttle": 1
      }
     },
     "6454dcd7ab594dcf90129182401be14b": {
      "model_module": "jupyter-leaflet",
      "model_module_version": "*",
      "model_name": "LeafletGeoJSONModel",
      "state": {
       "_model_module_version": "*",
       "_view_module_version": "*",
       "data": {
        "coordinates": [
         -68.25,
         12.2
        ],
        "type": "Point"
       },
       "msg_throttle": 1
      }
     },
     "64d0fde4c54748b0b4a7b55cacfb5a66": {
      "model_module": "jupyter-leaflet",
      "model_module_version": "*",
      "model_name": "LeafletGeoJSONModel",
      "state": {
       "_model_module_version": "*",
       "_view_module_version": "*",
       "data": {
        "coordinates": [
         47,
         -20
        ],
        "type": "Point"
       },
       "msg_throttle": 1
      }
     },
     "64df76ecf171447da9e0fd88d614c2b2": {
      "model_module": "bqplot",
      "model_module_version": "^0.2.3",
      "model_name": "LinearScaleModel",
      "state": {
       "allow_padding": false,
       "max": 1,
       "min": 0,
       "stabilized": false
      }
     },
     "67fa92b78458484f841848975b1ac257": {
      "model_module": "jupyter-leaflet",
      "model_module_version": "*",
      "model_name": "LeafletGeoJSONModel",
      "state": {
       "_model_module_version": "*",
       "_view_module_version": "*",
       "data": {
        "coordinates": [
         -62.2,
         16.75
        ],
        "type": "Point"
       },
       "msg_throttle": 1
      }
     },
     "680bd6f2017a4096861d9548b58da57a": {
      "model_module": "jupyter-leaflet",
      "model_module_version": "*",
      "model_name": "LeafletGeoJSONModel",
      "state": {
       "_model_module_version": "*",
       "_view_module_version": "*",
       "data": {
        "coordinates": [
         2,
         46
        ],
        "type": "Point"
       },
       "msg_throttle": 1
      }
     },
     "6865d4ac47cb446c8bef84857f40634a": {
      "model_module": "jupyter-leaflet",
      "model_module_version": "*",
      "model_name": "LeafletGeoJSONModel",
      "state": {
       "_model_module_version": "*",
       "_view_module_version": "*",
       "data": {
        "coordinates": [
         20,
         47
        ],
        "type": "Point"
       },
       "msg_throttle": 1
      }
     },
     "69412388c1a34fabaee43048fa4195c1": {
      "model_module": "jupyter-leaflet",
      "model_module_version": "*",
      "model_name": "LeafletGeoJSONModel",
      "state": {
       "_model_module_version": "*",
       "_view_module_version": "*",
       "data": {
        "coordinates": [
         15,
         -1
        ],
        "type": "Point"
       },
       "msg_throttle": 1
      }
     },
     "69d43d1fc0aa4b1eb69b4404096299be": {
      "model_module": "jupyter-leaflet",
      "model_module_version": "*",
      "model_name": "LeafletGeoJSONModel",
      "state": {
       "_model_module_version": "*",
       "_view_module_version": "*",
       "data": {
        "coordinates": [
         112.5,
         2.5
        ],
        "type": "Point"
       },
       "msg_throttle": 1
      }
     },
     "6b1d9500fa8143ae891fd83e8b2afdb9": {
      "model_module": "jupyter-leaflet",
      "model_module_version": "*",
      "model_name": "LeafletGeoJSONModel",
      "state": {
       "_model_module_version": "*",
       "_view_module_version": "*",
       "data": {
        "coordinates": [
         -140,
         -15
        ],
        "type": "Point"
       },
       "msg_throttle": 1
      }
     },
     "6cef2c7eec75469c84e3826fb225c45a": {
      "model_module": "jupyter-leaflet",
      "model_module_version": "*",
      "model_name": "LeafletGeoJSONModel",
      "state": {
       "_model_module_version": "*",
       "_view_module_version": "*",
       "data": {
        "coordinates": [
         -61,
         14.666667
        ],
        "type": "Point"
       },
       "msg_throttle": 1
      }
     },
     "6d8e486dfbfb4b4982d14c06d8befb6f": {
      "model_module": "jupyter-leaflet",
      "model_module_version": "*",
      "model_name": "LeafletGeoJSONModel",
      "state": {
       "_model_module_version": "*",
       "_view_module_version": "*",
       "data": {
        "coordinates": [
         -24,
         16
        ],
        "type": "Point"
       },
       "msg_throttle": 1
      }
     },
     "6db5b3ee94a641f59fce7c4644ed0558": {
      "model_module": "jupyter-leaflet",
      "model_module_version": "*",
      "model_name": "LeafletGeoJSONModel",
      "state": {
       "_model_module_version": "*",
       "_view_module_version": "*",
       "data": {
        "coordinates": [
         -169.866667,
         -19.033333
        ],
        "type": "Point"
       },
       "msg_throttle": 1
      }
     },
     "6dfff50449b7489795dd4c7bfa205da7": {
      "model_module": "jupyter-leaflet",
      "model_module_version": "*",
      "model_name": "LeafletGeoJSONModel",
      "state": {
       "_model_module_version": "*",
       "_view_module_version": "*",
       "data": {
        "coordinates": [
         34.911546,
         39.059012
        ],
        "type": "Point"
       },
       "msg_throttle": 1
      }
     },
     "6e7a3de72eb14372a59d6bedaf7f0ca9": {
      "model_module": "jupyter-leaflet",
      "model_module_version": "*",
      "model_name": "LeafletGeoJSONModel",
      "state": {
       "_model_module_version": "*",
       "_view_module_version": "*",
       "data": {
        "coordinates": [
         -5.35,
         36.133333
        ],
        "type": "Point"
       },
       "msg_throttle": 1
      }
     },
     "704acb6ca3b642b996e3789402be60c1": {
      "model_module": "bqplot",
      "model_module_version": "^0.2.3",
      "model_name": "BarsModel",
      "state": {
       "base": 1,
       "color": {
        "type": null,
        "values": null
       },
       "display_legend": false,
       "scales": {
        "x": "IPY_MODEL_4dee658595d8436cbeed76e864001212",
        "y": "IPY_MODEL_4d2e89a8979a43ffbfff0f8805969fe9"
       },
       "selected": [],
       "x": {
        "type": "object",
        "values": [
         "dms_lat",
         "dms_long",
         "lat",
         "long",
         "val1",
         "val2",
         "val3",
         "val4"
        ]
       },
       "y": {
        "type": "float",
        "values": [
         -18186.40625,
         196053.125,
         -1.8540364062499992,
         19.633854234375,
         488787.75472173915,
         458390.8191274535,
         492901.58978462784,
         530858.2093142384
        ]
       }
      }
     },
     "7064e72fd77b48e3814eb3d916a54102": {
      "model_module": "jupyter-leaflet",
      "model_module_version": "*",
      "model_name": "LeafletMapModel",
      "state": {
       "_dom_classes": [],
       "_east": 72.7734375,
       "_model_module_version": "*",
       "_north": 75.49715731893085,
       "_south": -37.16031654673676,
       "_view_module_version": "*",
       "_west": -68.5546875,
       "center": [
        36.31512514748051,
        2.109375
       ],
       "controls": [
        "IPY_MODEL_7eb7228d74c84a07a8ceddf977739246"
       ],
       "layers": [
        "IPY_MODEL_835793f314534dc1860c08896c997063",
        "IPY_MODEL_f26a48017748485aac422b5792d9a21b",
        "IPY_MODEL_1332ad17771e4e479a9d260a64d44daf",
        "IPY_MODEL_8f01baa340e24505aedf5b1f06afed60",
        "IPY_MODEL_4b6ac551ac324e62bbac46ff80ddb900",
        "IPY_MODEL_bb94cdade5e64b7b947c3da803d1fe03",
        "IPY_MODEL_630ec532f18548ec9d029f1b792989d2",
        "IPY_MODEL_8ef8f400f4d945159ee945ded822914c",
        "IPY_MODEL_84ef17e7671d425bb9c716608b2118d9",
        "IPY_MODEL_5e30619cfed8490f8022d5dd0b459760",
        "IPY_MODEL_05b0cad9f194470f87cc2f52a69f7b50",
        "IPY_MODEL_40dafec5d7d94b12be2446ff893e5ed0",
        "IPY_MODEL_1580d2090f034c59a652241757c89c22",
        "IPY_MODEL_23ce3d96ceb74084a31758dd07113094",
        "IPY_MODEL_c3ffc9323b6e45b4b0badaecbb150fd0",
        "IPY_MODEL_816cfb55b41442e4bf835aa6c5d8345d",
        "IPY_MODEL_f54b0fe93fa144a8818a3fe04759dabc",
        "IPY_MODEL_74083307e772414e94cd96c4ad04a215",
        "IPY_MODEL_9f17c9cfb7ce48a98fe9c709c9612090",
        "IPY_MODEL_410e0105742f489a96765e5558250ced",
        "IPY_MODEL_dee548437bf54cfdb59b8fcbf778b707",
        "IPY_MODEL_74d80ae4e30e42329580d8aaa0930103",
        "IPY_MODEL_eb6770fa59274cceb2dc9689a59faf97",
        "IPY_MODEL_91eac1fe70f849f2b65c618fc40c503f",
        "IPY_MODEL_5eebdd6d08e84a928deb57f978052388",
        "IPY_MODEL_eca8c8d7d04f4219bbe94bab5541cdee",
        "IPY_MODEL_2093670b89274f8aa88cb5a06524c8d9",
        "IPY_MODEL_011f156c1da64905a6932fd95141364a",
        "IPY_MODEL_4d31c4c9422d4a82b117c5a522f11e35",
        "IPY_MODEL_6454dcd7ab594dcf90129182401be14b",
        "IPY_MODEL_fc854dd1090845f88fbeb9c7b21d45a8",
        "IPY_MODEL_758d31a38a70423f89da5e78558c4e5c",
        "IPY_MODEL_d25182bff2964457ad2b4aabb231df67",
        "IPY_MODEL_7c1fca32fc4442e495ab803ff2c89231",
        "IPY_MODEL_0880c131228c4bd7becae6da43585b04",
        "IPY_MODEL_3f066387acca4275b8a4413d30563e20",
        "IPY_MODEL_28b91151420a4ae8b9f7fff2c832baf9",
        "IPY_MODEL_1b997e5559c54ba98e8dd6038ee196e4",
        "IPY_MODEL_558b15c5bad94e91ae6600916d69d40d",
        "IPY_MODEL_a37b4c2965014dadb9dac29f4715aa8e",
        "IPY_MODEL_e96df09203b44d04a3e262615983325d",
        "IPY_MODEL_d44c9394f8a74774883feb20cc794959",
        "IPY_MODEL_d6cdd47d6a0c4e90ad7f98b0b805d6b8",
        "IPY_MODEL_c72a756f5bed41f3a497f5c1c1507df6",
        "IPY_MODEL_6d8e486dfbfb4b4982d14c06d8befb6f",
        "IPY_MODEL_eaf3a5a492994db681a06dd7ad23cf8e",
        "IPY_MODEL_45005170501a453d896cf7c670cf10a1",
        "IPY_MODEL_28e3a4761e7448f0a98f8f2379131932",
        "IPY_MODEL_cdbc2affe4ce4fe88b4ef6bb1e723317",
        "IPY_MODEL_5e9e2b6fb7ab47039a199994a9e4240e",
        "IPY_MODEL_1abd3eb097b346c6aee7898fe9e30690",
        "IPY_MODEL_9535d601be234369aa6cc620bb9aa2f8",
        "IPY_MODEL_3f43aed71b0d4b698912b728efd91e9e",
        "IPY_MODEL_195f2dc23f3f450eadb57daa16584a65",
        "IPY_MODEL_5c2f9bf41be1473c8d0b2d502a204a33",
        "IPY_MODEL_d3733a5eeba44d6b95daf977ce76ae75",
        "IPY_MODEL_a34f6e2c8d294ae58c5c97da3c8b26ab",
        "IPY_MODEL_2cf0655c06cd490399981f7f01e12fae",
        "IPY_MODEL_794bd746c8714d1fa47c0cae78ab3152",
        "IPY_MODEL_ab3ca9ec7e2d46d8ad8091fba9f51cce",
        "IPY_MODEL_3809033e1c634af7ad9922c9a48f3525",
        "IPY_MODEL_258865e6950f42dcb6c4ec0fa79849f4",
        "IPY_MODEL_8728e486ec6f4a2497a0cbe208980c89",
        "IPY_MODEL_951ae5b2371041afb25fe81ad4d7a708",
        "IPY_MODEL_bc929f5b124447bcb447ec084f36e356",
        "IPY_MODEL_a9290e4bd4a54a3e818bc9438ead6594",
        "IPY_MODEL_eb8e90e7f7874acb98409d7c13a0d0f3",
        "IPY_MODEL_8ca575166c4240a7966e88f15c07ed1f",
        "IPY_MODEL_f85e9e6a90ee4b519ee96f8ba0555c49",
        "IPY_MODEL_dc03f936d3a34e0d9c0c42df719efbd6",
        "IPY_MODEL_305f31c710a743be9f6f8f6fc2945d69",
        "IPY_MODEL_e9a97e1ef05249449162703d50ebd383",
        "IPY_MODEL_3baf4a1fbff44478bf59cc1ec5ba5865",
        "IPY_MODEL_f6473e49852b4d3b940daecf69426b3d",
        "IPY_MODEL_77ff255403f8427e90ed5edb14225598",
        "IPY_MODEL_502d060b137c42dd8860478ec2263daa",
        "IPY_MODEL_49f38163ba644a35b0e03b7ff814c27a",
        "IPY_MODEL_7d3d69d224864ccb880cad12fba3557c",
        "IPY_MODEL_b00e3906ce4542349f354d628bc2dc8f",
        "IPY_MODEL_c7b77c5c15c34b0ea9a9b2a8a71e56ec",
        "IPY_MODEL_63133f823f6c419e9a013efa5c97260a",
        "IPY_MODEL_275f27334c0a4181bdf2feb0842da35d",
        "IPY_MODEL_82f55e2a9aaf46919bcf0cfa819bc3bf",
        "IPY_MODEL_680bd6f2017a4096861d9548b58da57a",
        "IPY_MODEL_e00df84d84e04561a15ff43ada218674",
        "IPY_MODEL_6b1d9500fa8143ae891fd83e8b2afdb9",
        "IPY_MODEL_3dc72cbd24bb4dcfbccf524dad8c0291",
        "IPY_MODEL_33cc6563c52e405a9760bc38ba6a42e1",
        "IPY_MODEL_75d8e64ee3874d66bef5e8be54ebe591",
        "IPY_MODEL_9d54cf9e423843e0b8eba1f5c8366dd2",
        "IPY_MODEL_54f125d5ab3647958860f037bf10a8c6",
        "IPY_MODEL_00949c38bbff426f8a8c8a32df735cad",
        "IPY_MODEL_b19d17ecc9ce49cfbceb668442be0fa0",
        "IPY_MODEL_6e7a3de72eb14372a59d6bedaf7f0ca9",
        "IPY_MODEL_f19bc2fe2c534e17b92afef86b071e94",
        "IPY_MODEL_e633e4999d014af086e9961c3769a06a",
        "IPY_MODEL_c9e9d5ddba964a4aaf1056ad2e4ed498",
        "IPY_MODEL_4dc52a6b1fd24e83902b98133c015991",
        "IPY_MODEL_726fba5c20034528ac6276d53298ffb5",
        "IPY_MODEL_9ef73e1218dd4179a6742a30a9700afc",
        "IPY_MODEL_a9d6ec11fb1342e987cb789251cc31d6",
        "IPY_MODEL_b07ebd3f9ba84bfea51c5393a99698cd",
        "IPY_MODEL_e69b64d17a36486d93973c3fc5d36c34",
        "IPY_MODEL_c162454415514cb28792de2874b4c8be",
        "IPY_MODEL_31d2d4e6e6dd4389af163648786d6164",
        "IPY_MODEL_3187408df3604a009946d7d83e12df2a",
        "IPY_MODEL_c582a5cf1a2e4f4f8c0dc5a3ae643d60",
        "IPY_MODEL_d4b9e6c137ac49d7a2d4fd05f68e5ca5",
        "IPY_MODEL_54767754360c4d6fa4a65735cb4a51a6",
        "IPY_MODEL_6865d4ac47cb446c8bef84857f40634a",
        "IPY_MODEL_fa94957d7b46421abd59f03a21e8046d",
        "IPY_MODEL_1ee54a4272a041aa8ad3caee348a84da",
        "IPY_MODEL_74dbbc7544fb4085988562e66cef25da",
        "IPY_MODEL_eb0168fe5a5849a69927ca3d4fde95cf",
        "IPY_MODEL_81f8232b4d4645adb13d67d8074b7c03",
        "IPY_MODEL_dc5a4e1e49fd42b08c77fbbc5ce09c3c",
        "IPY_MODEL_8f9488fa260949db83f763171d464a5b",
        "IPY_MODEL_3a078198348b49d7a2737b40a03bd2c2",
        "IPY_MODEL_85f1dd6839c640f8aad8e56416ba590a",
        "IPY_MODEL_34d7ab9bc7ca4cf180b4d34dd4777ad3",
        "IPY_MODEL_17a0207e08f64cb6a6f00c1e3efd2167",
        "IPY_MODEL_ce09011eb48f457a88b5e3bbc7f7a40c",
        "IPY_MODEL_f40d721ee4e049b39f04da03e1ed6068",
        "IPY_MODEL_40ed201250fb4b289b2539986a95d8d5",
        "IPY_MODEL_b2e788b03f8f4b04af9b7bee20a4a0b2",
        "IPY_MODEL_81b67f047db549e9af95bf364aa2e239",
        "IPY_MODEL_e2d4b52392b343bcb7000c8cc59ce258",
        "IPY_MODEL_0518bb049da04b8087be82233227e447",
        "IPY_MODEL_95aca01434844148abd3580b0bf78125",
        "IPY_MODEL_9cab6b9d7ddb4030bfbd644c6af2092d",
        "IPY_MODEL_c4f51cdf1df44acaac1d4cf73c276c55",
        "IPY_MODEL_4d0056da35a3408b98664e166ebf4b62",
        "IPY_MODEL_2c4e4faa5e3e4e128232e5c9f099dd3a",
        "IPY_MODEL_e918355ae65047cb8fa1d03efd5ef30b",
        "IPY_MODEL_0bb324ffd839411bb5663d56f6a29b6d",
        "IPY_MODEL_f24a5905b6fb4620b82fa4f5fcb6d01b",
        "IPY_MODEL_da28d16747034219b3dfcb2f54f38f2b",
        "IPY_MODEL_c36d7e62047f4a79afefc3b34333cbf1",
        "IPY_MODEL_dd0fbbef84c44b8189082ca90cdd2e21",
        "IPY_MODEL_a5ed36b7d3494d089be31cea6d919743",
        "IPY_MODEL_17cd3e66f0aa4d24a0435c1d8deaa9f9",
        "IPY_MODEL_64d0fde4c54748b0b4a7b55cacfb5a66",
        "IPY_MODEL_f49e32659ba44fd59b213605f474c454",
        "IPY_MODEL_69d43d1fc0aa4b1eb69b4404096299be",
        "IPY_MODEL_1bdb8dc64958459d9eb2013459959fb9",
        "IPY_MODEL_cb67bea6d9934f18a54ed7dfd272ae98",
        "IPY_MODEL_8f2c32adad7d4bf0a990b83a92a6b24c",
        "IPY_MODEL_c65898b5d7684ec4a946aa28fb12830f",
        "IPY_MODEL_6cef2c7eec75469c84e3826fb225c45a",
        "IPY_MODEL_5eb1127228cc4b3d98845008ac0aaa98",
        "IPY_MODEL_c770b8d16a7c4d49819c92bf4f2b6477",
        "IPY_MODEL_766d2d6740854fb692cf7627d21e2b29",
        "IPY_MODEL_2d02ee1e9c48491da13c64fd93ebbe35",
        "IPY_MODEL_187aff6adfa44c7a9c3067f95c4aa2e2",
        "IPY_MODEL_8e74906e46984e728fb743b9f65cb153",
        "IPY_MODEL_718a87bf8ba045dca8cc3756f49c4bb4",
        "IPY_MODEL_0be2bdc6706d4591ad5f1bf814bad82a",
        "IPY_MODEL_67fa92b78458484f841848975b1ac257",
        "IPY_MODEL_dc3af4568eb443ffb6d29820aa659c73",
        "IPY_MODEL_e6a3366a5aef463c8c4886405003c65a",
        "IPY_MODEL_264a0f650d26479f9d2453a5d165cee2",
        "IPY_MODEL_74bcda13112f4e8098239deff655438e",
        "IPY_MODEL_8dd817a1427645dea32c279c9338173b",
        "IPY_MODEL_88d989831edf47e7aeb335550a517f1c",
        "IPY_MODEL_5f5193e9e79042bcbcd14a1fffdaf70a",
        "IPY_MODEL_7cf90e7e94d8401ea2134dd928435e3f",
        "IPY_MODEL_9fcbebbd4d694ea489c6ad1442f2ba02",
        "IPY_MODEL_0d0a03d7357b424ab02e7f74e42eef31",
        "IPY_MODEL_03400980875c4a36be7c0c66d85baf88",
        "IPY_MODEL_6db5b3ee94a641f59fce7c4644ed0558",
        "IPY_MODEL_8a4df8e32c144593b1d5d89e247f07b6",
        "IPY_MODEL_e1386b94ec624d298142b1be6c3a55d5",
        "IPY_MODEL_0c0a91c55a0b4964aef0512a8994cd53",
        "IPY_MODEL_94ac7280e45c44b29b95187be0e68bc0",
        "IPY_MODEL_a34f30804db64e8fba3248e2501eac2c",
        "IPY_MODEL_a8fdceb176ad4ca6b90e631a4a74e8b0",
        "IPY_MODEL_bd4e12077dde41afafbe78a20b001790",
        "IPY_MODEL_5c06c5b5f67b424b962089e41f5c2129",
        "IPY_MODEL_2582a0a2b044447984b72bfb885b127b",
        "IPY_MODEL_deb095704e644cb68070a2e5827ddedb",
        "IPY_MODEL_9796fd4263c445c2a5445d4e2f163f5e",
        "IPY_MODEL_0ed1367bb4fc48688aa1ed450d9eaaa1",
        "IPY_MODEL_3af86385f000429d9a10bc1cc300ac4a",
        "IPY_MODEL_7a17722e80f042cfb3627caaf27597f6",
        "IPY_MODEL_11b32b67c33b4ef499c14f59dc8f690a",
        "IPY_MODEL_ab0dbfbb3c224ad998630fdfd528618c",
        "IPY_MODEL_1f2c7e5c464041c98406901613469185",
        "IPY_MODEL_69412388c1a34fabaee43048fa4195c1",
        "IPY_MODEL_3a06d6703f16427f9e5e5b5e0bea5f7f",
        "IPY_MODEL_da4f2207fa064a03b4e45b36dc6122d4",
        "IPY_MODEL_e65851db816646e7b83c35064932dbfa",
        "IPY_MODEL_edf88d9410fb4d4fa15cd18dcda4706a",
        "IPY_MODEL_552be316cc10476e816ae29b7c4bb58c",
        "IPY_MODEL_a18f187ff9234af0b6ddd36dfc126669",
        "IPY_MODEL_b7964063cfc04dd787ea65651fa65003",
        "IPY_MODEL_7b54fcc67a6746718510b832e4c8d805",
        "IPY_MODEL_3d59b63602354dd1b9f0a88ef0c70587",
        "IPY_MODEL_3de6debe9a2b44bf8270e2363102bda5",
        "IPY_MODEL_24c0783e80ad4952ab94d51897d494de",
        "IPY_MODEL_58d98f8d2fc34f95b79f21b3ce12dbed",
        "IPY_MODEL_2166ef8fd662426590fdf5f58f3e8f58",
        "IPY_MODEL_0468bdf0a97548f0b30d521562d4c9a4",
        "IPY_MODEL_a042e424953f42708b9e7e5e2e389995",
        "IPY_MODEL_0886a224ea9c4c8aae96a36ed125f194",
        "IPY_MODEL_9a226b16e8074a1cbac5123549026b26",
        "IPY_MODEL_5da54d17ba2b4c84a19f6e4a472ff1c0",
        "IPY_MODEL_f84f9efaa79d4ebbbb7808c68f8998b2",
        "IPY_MODEL_89837a7aa69141118b2844e464944dfe",
        "IPY_MODEL_c3aaaff3c7b44918ae13124025aeaa74",
        "IPY_MODEL_99c9d0ee3023491ba6eb41bb95858dbc",
        "IPY_MODEL_a64e4ae79f54499891fa4a60a8d6f197",
        "IPY_MODEL_98e1800ec12f42ce8094c56360fae8c0",
        "IPY_MODEL_9254bf7f86684fcba01ae08e4e96f1d4",
        "IPY_MODEL_c8f42db1f214416d85f2c3f51f384652",
        "IPY_MODEL_a1a6f7e069ff4f9494a456e775d1d4f0",
        "IPY_MODEL_fa0fa5c54a0b4749a62cf813d7f2d174",
        "IPY_MODEL_05e7e091a30f4a92b4772de0ad38564c",
        "IPY_MODEL_08a0dc1a42f04653b23819ede28c7aa7",
        "IPY_MODEL_4ab4d07e41fd47788a5730c5161e6297",
        "IPY_MODEL_d639f4d529e54ac7b79159dcbf1185e6",
        "IPY_MODEL_f92fb1b904f64f39820ede786aa86b91",
        "IPY_MODEL_a54da2d7709d4b97abca15370685473c",
        "IPY_MODEL_f3d95177e48a4c4cb8d2c1ca33fa6bd0",
        "IPY_MODEL_b26b529201e44dd097f8137560062dcb",
        "IPY_MODEL_4eed9bf0a169409e9f1e23ffd2933484",
        "IPY_MODEL_0b958f3837ed42b19288d5cf94ed4f5c",
        "IPY_MODEL_1f25fb38d52f472789344b5723cfe5b7",
        "IPY_MODEL_ce6f80690c324a858ea5267c4ce4c554",
        "IPY_MODEL_817ce345333f40ee9a0c96a3807fb002",
        "IPY_MODEL_28b511c0b9cc46c2be12b52fe2a3503a",
        "IPY_MODEL_4808d953849e4defaef3838fae21f88e",
        "IPY_MODEL_76126deec81549968f5c19ef2f90b582",
        "IPY_MODEL_83d3a4f41c644f9fb392c3a5ecd727cc",
        "IPY_MODEL_aef91584865e48a8b04bc22b599113be",
        "IPY_MODEL_ff61ab67bdb54612964805bbbc2cbc14",
        "IPY_MODEL_3b78e99ad40348e19e3c5a3147c9a223",
        "IPY_MODEL_6dfff50449b7489795dd4c7bfa205da7",
        "IPY_MODEL_c005f4b16f2b48fabfc6e7224a94da6e",
        "IPY_MODEL_ce2a2e8e83c84b8bb2b4e7ebcace07dd",
        "IPY_MODEL_7af6d47664a64f77a00b82470395bc98",
        "IPY_MODEL_f696383bcd4547a4b620ea69cc6faa55",
        "IPY_MODEL_70afae7d6ea541c4a6ddbff3e97bc057",
        "IPY_MODEL_4e5f3a16fb974bc09b7825530e77d378",
        "IPY_MODEL_08caa9a0964048a1a7ff50b589476405",
        "IPY_MODEL_81c61a8a3fc9440c857e95b47fdc35df",
        "IPY_MODEL_fbf9c73909d54ce5885f0ad1f81934a9",
        "IPY_MODEL_9a9f9bd6a862484c80a5c8a1a70142eb",
        "IPY_MODEL_9c496cffffa44ed383edd5b58f7fe8ae",
        "IPY_MODEL_ede9c7680617446bb177c41e98695bbc",
        "IPY_MODEL_a866b5160b514543b739abeb65dd0c00",
        "IPY_MODEL_a91ea0e8c23b490eb746f3cdf83c108f",
        "IPY_MODEL_1953c048c413479696742aca1ee6f306",
        "IPY_MODEL_b140de5301e1433992d5cb666b841349",
        "IPY_MODEL_e929a8157d89420bbb7642722ba8984e",
        "IPY_MODEL_0ee05d6623d045b4b72bc84fc537685e",
        "IPY_MODEL_2d362a2f3895450e95e80536b6217348",
        "IPY_MODEL_c9e267f73fe949eb83d196862a68d664",
        "IPY_MODEL_b78825735c3d4708891e9c9f24eafcb6",
        "IPY_MODEL_85477dd729a4422b88a6c3601c0de26d"
       ],
       "layout": "IPY_MODEL_eca16e42305c4168badfba59d7e20731",
       "msg_throttle": 1,
       "options": [
        "touch_zoom",
        "scroll_wheel_zoom",
        "max_zoom",
        "zoom_animation_threshold",
        "zoom",
        "tap_tolerance",
        "box_zoom",
        "attribution_control",
        "zoom_control",
        "dragging",
        "bounce_at_zoom_limits",
        "keyboard",
        "double_click_zoom",
        "close_popup_on_click",
        "keyboard_zoom_offset",
        "inertia",
        "tap",
        "zoom_start",
        "inertia_max_speed",
        "keyboard_pan_offset",
        "world_copy_jump",
        "center",
        "min_zoom",
        "inertia_deceleration"
       ],
       "scroll_wheel_zoom": true,
       "zoom": 2
      }
     },
     "70afae7d6ea541c4a6ddbff3e97bc057": {
      "model_module": "jupyter-leaflet",
      "model_module_version": "*",
      "model_name": "LeafletGeoJSONModel",
      "state": {
       "_model_module_version": "*",
       "_view_module_version": "*",
       "data": {
        "coordinates": [
         -64.983481,
         18.348289
        ],
        "type": "Point"
       },
       "msg_throttle": 1
      }
     },
     "715bd79909e6491a8121d5979b49c07d": {
      "model_module": "bqplot",
      "model_module_version": "^0.2.3",
      "model_name": "LinearScaleModel",
      "state": {
       "allow_padding": false,
       "max": 1,
       "min": 0,
       "stabilized": false
      }
     },
     "718a87bf8ba045dca8cc3756f49c4bb4": {
      "model_module": "jupyter-leaflet",
      "model_module_version": "*",
      "model_name": "LeafletGeoJSONModel",
      "state": {
       "_model_module_version": "*",
       "_view_module_version": "*",
       "data": {
        "coordinates": [
         105,
         46
        ],
        "type": "Point"
       },
       "msg_throttle": 1
      }
     },
     "726fba5c20034528ac6276d53298ffb5": {
      "model_module": "jupyter-leaflet",
      "model_module_version": "*",
      "model_name": "LeafletGeoJSONModel",
      "state": {
       "_model_module_version": "*",
       "_view_module_version": "*",
       "data": {
        "coordinates": [
         -61.583333,
         16.25
        ],
        "type": "Point"
       },
       "msg_throttle": 1
      }
     },
     "74083307e772414e94cd96c4ad04a215": {
      "model_module": "jupyter-leaflet",
      "model_module_version": "*",
      "model_name": "LeafletGeoJSONModel",
      "state": {
       "_model_module_version": "*",
       "_view_module_version": "*",
       "data": {
        "coordinates": [
         -76,
         24
        ],
        "type": "Point"
       },
       "msg_throttle": 1
      }
     },
     "74bcda13112f4e8098239deff655438e": {
      "model_module": "jupyter-leaflet",
      "model_module_version": "*",
      "model_name": "LeafletGeoJSONModel",
      "state": {
       "_model_module_version": "*",
       "_view_module_version": "*",
       "data": {
        "coordinates": [
         166.916667,
         -0.533333
        ],
        "type": "Point"
       },
       "msg_throttle": 1
      }
     },
     "74d80ae4e30e42329580d8aaa0930103": {
      "model_module": "jupyter-leaflet",
      "model_module_version": "*",
      "model_name": "LeafletGeoJSONModel",
      "state": {
       "_model_module_version": "*",
       "_view_module_version": "*",
       "data": {
        "coordinates": [
         39.7,
         -21.416667
        ],
        "type": "Point"
       },
       "msg_throttle": 1
      }
     },
     "74dbbc7544fb4085988562e66cef25da": {
      "model_module": "jupyter-leaflet",
      "model_module_version": "*",
      "model_name": "LeafletGeoJSONModel",
      "state": {
       "_model_module_version": "*",
       "_view_module_version": "*",
       "data": {
        "coordinates": [
         120,
         -5
        ],
        "type": "Point"
       },
       "msg_throttle": 1
      }
     },
     "758d31a38a70423f89da5e78558c4e5c": {
      "model_module": "jupyter-leaflet",
      "model_module_version": "*",
      "model_name": "LeafletGeoJSONModel",
      "state": {
       "_model_module_version": "*",
       "_view_module_version": "*",
       "data": {
        "coordinates": [
         24,
         -22
        ],
        "type": "Point"
       },
       "msg_throttle": 1
      }
     },
     "75d8e64ee3874d66bef5e8be54ebe591": {
      "model_module": "jupyter-leaflet",
      "model_module_version": "*",
      "model_name": "LeafletGeoJSONModel",
      "state": {
       "_model_module_version": "*",
       "_view_module_version": "*",
       "data": {
        "coordinates": [
         -15.5,
         13.5
        ],
        "type": "Point"
       },
       "msg_throttle": 1
      }
     },
     "76126deec81549968f5c19ef2f90b582": {
      "model_module": "jupyter-leaflet",
      "model_module_version": "*",
      "model_name": "LeafletGeoJSONModel",
      "state": {
       "_model_module_version": "*",
       "_view_module_version": "*",
       "data": {
        "coordinates": [
         -171.75,
         -9
        ],
        "type": "Point"
       },
       "msg_throttle": 1
      }
     },
     "766d2d6740854fb692cf7627d21e2b29": {
      "model_module": "jupyter-leaflet",
      "model_module_version": "*",
      "model_name": "LeafletGeoJSONModel",
      "state": {
       "_model_module_version": "*",
       "_view_module_version": "*",
       "data": {
        "coordinates": [
         45.166667,
         -12.833333
        ],
        "type": "Point"
       },
       "msg_throttle": 1
      }
     },
     "77ff255403f8427e90ed5edb14225598": {
      "model_module": "jupyter-leaflet",
      "model_module_version": "*",
      "model_name": "LeafletGeoJSONModel",
      "state": {
       "_model_module_version": "*",
       "_view_module_version": "*",
       "data": {
        "coordinates": [
         26,
         59
        ],
        "type": "Point"
       },
       "msg_throttle": 1
      }
     },
     "794bd746c8714d1fa47c0cae78ab3152": {
      "model_module": "jupyter-leaflet",
      "model_module_version": "*",
      "model_name": "LeafletGeoJSONModel",
      "state": {
       "_model_module_version": "*",
       "_view_module_version": "*",
       "data": {
        "coordinates": [
         -5,
         8
        ],
        "type": "Point"
       },
       "msg_throttle": 1
      }
     },
     "7a17722e80f042cfb3627caaf27597f6": {
      "model_module": "jupyter-leaflet",
      "model_module_version": "*",
      "model_name": "LeafletGeoJSONModel",
      "state": {
       "_model_module_version": "*",
       "_view_module_version": "*",
       "data": {
        "coordinates": [
         20,
         52
        ],
        "type": "Point"
       },
       "msg_throttle": 1
      }
     },
     "7af6d47664a64f77a00b82470395bc98": {
      "model_module": "jupyter-leaflet",
      "model_module_version": "*",
      "model_name": "LeafletGeoJSONModel",
      "state": {
       "_model_module_version": "*",
       "_view_module_version": "*",
       "data": {
        "coordinates": [
         178,
         -8
        ],
        "type": "Point"
       },
       "msg_throttle": 1
      }
     },
     "7b54fcc67a6746718510b832e4c8d805": {
      "model_module": "jupyter-leaflet",
      "model_module_version": "*",
      "model_name": "LeafletGeoJSONModel",
      "state": {
       "_model_module_version": "*",
       "_view_module_version": "*",
       "data": {
        "coordinates": [
         -63.05833,
         18.075
        ],
        "type": "Point"
       },
       "msg_throttle": 1
      }
     },
     "7c1fca32fc4442e495ab803ff2c89231": {
      "model_module": "jupyter-leaflet",
      "model_module_version": "*",
      "model_name": "LeafletGeoJSONModel",
      "state": {
       "_model_module_version": "*",
       "_view_module_version": "*",
       "data": {
        "coordinates": [
         -55,
         -10
        ],
        "type": "Point"
       },
       "msg_throttle": 1
      }
     },
     "7cf90e7e94d8401ea2134dd928435e3f": {
      "model_module": "jupyter-leaflet",
      "model_module_version": "*",
      "model_name": "LeafletGeoJSONModel",
      "state": {
       "_model_module_version": "*",
       "_view_module_version": "*",
       "data": {
        "coordinates": [
         174,
         -42
        ],
        "type": "Point"
       },
       "msg_throttle": 1
      }
     },
     "7d3d69d224864ccb880cad12fba3557c": {
      "model_module": "jupyter-leaflet",
      "model_module_version": "*",
      "model_name": "LeafletGeoJSONModel",
      "state": {
       "_model_module_version": "*",
       "_view_module_version": "*",
       "data": {
        "coordinates": [
         8.26423,
         50.069455
        ],
        "type": "Point"
       },
       "msg_throttle": 1
      }
     },
     "7eb7228d74c84a07a8ceddf977739246": {
      "model_module": "jupyter-leaflet",
      "model_module_version": "*",
      "model_name": "LeafletDrawControlModel",
      "state": {
       "_model_module_version": "*",
       "_view_module_version": "*",
       "layer": "IPY_MODEL_092250e9441841309a88cd559cc3e6b0",
       "msg_throttle": 1,
       "polygon": {
        "shapeOptions": {
         "clickable": true,
         "color": "green",
         "weight": 2
        }
       }
      }
     },
     "816cfb55b41442e4bf835aa6c5d8345d": {
      "model_module": "jupyter-leaflet",
      "model_module_version": "*",
      "model_name": "LeafletGeoJSONModel",
      "state": {
       "_model_module_version": "*",
       "_view_module_version": "*",
       "data": {
        "coordinates": [
         13.333333,
         47.333333
        ],
        "type": "Point"
       },
       "msg_throttle": 1
      }
     },
     "817ce345333f40ee9a0c96a3807fb002": {
      "model_module": "jupyter-leaflet",
      "model_module_version": "*",
      "model_name": "LeafletGeoJSONModel",
      "state": {
       "_model_module_version": "*",
       "_view_module_version": "*",
       "data": {
        "coordinates": [
         100,
         15
        ],
        "type": "Point"
       },
       "msg_throttle": 1
      }
     },
     "81b67f047db549e9af95bf364aa2e239": {
      "model_module": "jupyter-leaflet",
      "model_module_version": "*",
      "model_name": "LeafletGeoJSONModel",
      "state": {
       "_model_module_version": "*",
       "_view_module_version": "*",
       "data": {
        "coordinates": [
         38,
         1
        ],
        "type": "Point"
       },
       "msg_throttle": 1
      }
     },
     "81c61a8a3fc9440c857e95b47fdc35df": {
      "model_module": "jupyter-leaflet",
      "model_module_version": "*",
      "model_name": "LeafletGeoJSONModel",
      "state": {
       "_model_module_version": "*",
       "_view_module_version": "*",
       "data": {
        "coordinates": [
         54,
         24
        ],
        "type": "Point"
       },
       "msg_throttle": 1
      }
     },
     "81f8232b4d4645adb13d67d8074b7c03": {
      "model_module": "jupyter-leaflet",
      "model_module_version": "*",
      "model_name": "LeafletGeoJSONModel",
      "state": {
       "_model_module_version": "*",
       "_view_module_version": "*",
       "data": {
        "coordinates": [
         44,
         33
        ],
        "type": "Point"
       },
       "msg_throttle": 1
      }
     },
     "82f55e2a9aaf46919bcf0cfa819bc3bf": {
      "model_module": "jupyter-leaflet",
      "model_module_version": "*",
      "model_name": "LeafletGeoJSONModel",
      "state": {
       "_model_module_version": "*",
       "_view_module_version": "*",
       "data": {
        "coordinates": [
         26,
         64
        ],
        "type": "Point"
       },
       "msg_throttle": 1
      }
     },
     "835793f314534dc1860c08896c997063": {
      "model_module": "jupyter-leaflet",
      "model_module_version": "*",
      "model_name": "LeafletTileLayerModel",
      "state": {
       "_model_module_version": "*",
       "_view_module_version": "*",
       "msg_throttle": 1,
       "options": [
        "min_zoom",
        "opacity",
        "max_zoom",
        "attribution",
        "detect_retina",
        "tile_size"
       ]
      }
     },
     "83d3a4f41c644f9fb392c3a5ecd727cc": {
      "model_module": "jupyter-leaflet",
      "model_module_version": "*",
      "model_name": "LeafletGeoJSONModel",
      "state": {
       "_model_module_version": "*",
       "_view_module_version": "*",
       "data": {
        "coordinates": [
         -175,
         -20
        ],
        "type": "Point"
       },
       "msg_throttle": 1
      }
     },
     "84ef17e7671d425bb9c716608b2118d9": {
      "model_module": "jupyter-leaflet",
      "model_module_version": "*",
      "model_name": "LeafletGeoJSONModel",
      "state": {
       "_model_module_version": "*",
       "_view_module_version": "*",
       "data": {
        "coordinates": [
         -61.8,
         17.05
        ],
        "type": "Point"
       },
       "msg_throttle": 1
      }
     },
     "85477dd729a4422b88a6c3601c0de26d": {
      "model_module": "jupyter-leaflet",
      "model_module_version": "*",
      "model_name": "LeafletGeoJSONModel",
      "state": {
       "_model_module_version": "*",
       "_view_module_version": "*",
       "data": {
        "coordinates": [
         29,
         -19
        ],
        "type": "Point"
       },
       "msg_throttle": 1
      }
     },
     "85f1dd6839c640f8aad8e56416ba590a": {
      "model_module": "jupyter-leaflet",
      "model_module_version": "*",
      "model_name": "LeafletGeoJSONModel",
      "state": {
       "_model_module_version": "*",
       "_view_module_version": "*",
       "data": {
        "coordinates": [
         12.833333,
         42.833333
        ],
        "type": "Point"
       },
       "msg_throttle": 1
      }
     },
     "8728e486ec6f4a2497a0cbe208980c89": {
      "model_module": "jupyter-leaflet",
      "model_module_version": "*",
      "model_name": "LeafletGeoJSONModel",
      "state": {
       "_model_module_version": "*",
       "_view_module_version": "*",
       "data": {
        "coordinates": [
         33,
         35
        ],
        "type": "Point"
       },
       "msg_throttle": 1
      }
     },
     "88d989831edf47e7aeb335550a517f1c": {
      "model_module": "jupyter-leaflet",
      "model_module_version": "*",
      "model_name": "LeafletGeoJSONModel",
      "state": {
       "_model_module_version": "*",
       "_view_module_version": "*",
       "data": {
        "coordinates": [
         5.75,
         52.5
        ],
        "type": "Point"
       },
       "msg_throttle": 1
      }
     },
     "89837a7aa69141118b2844e464944dfe": {
      "model_module": "jupyter-leaflet",
      "model_module_version": "*",
      "model_name": "LeafletGeoJSONModel",
      "state": {
       "_model_module_version": "*",
       "_view_module_version": "*",
       "data": {
        "coordinates": [
         -63.06667,
         18.04167
        ],
        "type": "Point"
       },
       "msg_throttle": 1
      }
     },
     "8a4df8e32c144593b1d5d89e247f07b6": {
      "model_module": "jupyter-leaflet",
      "model_module_version": "*",
      "model_name": "LeafletGeoJSONModel",
      "state": {
       "_model_module_version": "*",
       "_view_module_version": "*",
       "data": {
        "coordinates": [
         167.95,
         -29.033333
        ],
        "type": "Point"
       },
       "msg_throttle": 1
      }
     },
     "8ca575166c4240a7966e88f15c07ed1f": {
      "model_module": "jupyter-leaflet",
      "model_module_version": "*",
      "model_name": "LeafletGeoJSONModel",
      "state": {
       "_model_module_version": "*",
       "_view_module_version": "*",
       "data": {
        "coordinates": [
         -61.333333,
         15.5
        ],
        "type": "Point"
       },
       "msg_throttle": 1
      }
     },
     "8dd817a1427645dea32c279c9338173b": {
      "model_module": "jupyter-leaflet",
      "model_module_version": "*",
      "model_name": "LeafletGeoJSONModel",
      "state": {
       "_model_module_version": "*",
       "_view_module_version": "*",
       "data": {
        "coordinates": [
         84,
         28
        ],
        "type": "Point"
       },
       "msg_throttle": 1
      }
     },
     "8e74906e46984e728fb743b9f65cb153": {
      "model_module": "jupyter-leaflet",
      "model_module_version": "*",
      "model_name": "LeafletGeoJSONModel",
      "state": {
       "_model_module_version": "*",
       "_view_module_version": "*",
       "data": {
        "coordinates": [
         7.4,
         43.733333
        ],
        "type": "Point"
       },
       "msg_throttle": 1
      }
     },
     "8ef8f400f4d945159ee945ded822914c": {
      "model_module": "jupyter-leaflet",
      "model_module_version": "*",
      "model_name": "LeafletGeoJSONModel",
      "state": {
       "_model_module_version": "*",
       "_view_module_version": "*",
       "data": {
        "coordinates": [
         -63.05,
         18.216667
        ],
        "type": "Point"
       },
       "msg_throttle": 1
      }
     },
     "8f01baa340e24505aedf5b1f06afed60": {
      "model_module": "jupyter-leaflet",
      "model_module_version": "*",
      "model_name": "LeafletGeoJSONModel",
      "state": {
       "_model_module_version": "*",
       "_view_module_version": "*",
       "data": {
        "coordinates": [
         3,
         28
        ],
        "type": "Point"
       },
       "msg_throttle": 1
      }
     },
     "8f2c32adad7d4bf0a990b83a92a6b24c": {
      "model_module": "jupyter-leaflet",
      "model_module_version": "*",
      "model_name": "LeafletGeoJSONModel",
      "state": {
       "_model_module_version": "*",
       "_view_module_version": "*",
       "data": {
        "coordinates": [
         14.433333,
         35.916667
        ],
        "type": "Point"
       },
       "msg_throttle": 1
      }
     },
     "8f9488fa260949db83f763171d464a5b": {
      "model_module": "jupyter-leaflet",
      "model_module_version": "*",
      "model_name": "LeafletGeoJSONModel",
      "state": {
       "_model_module_version": "*",
       "_view_module_version": "*",
       "data": {
        "coordinates": [
         -4.5,
         54.25
        ],
        "type": "Point"
       },
       "msg_throttle": 1
      }
     },
     "91eac1fe70f849f2b65c618fc40c503f": {
      "model_module": "jupyter-leaflet",
      "model_module_version": "*",
      "model_name": "LeafletGeoJSONModel",
      "state": {
       "_model_module_version": "*",
       "_view_module_version": "*",
       "data": {
        "coordinates": [
         4,
         50.833333
        ],
        "type": "Point"
       },
       "msg_throttle": 1
      }
     },
     "9241ea3685444a45bf66fdfe0e10e00c": {
      "model_module": "bqplot",
      "model_module_version": "^0.2.3",
      "model_name": "AxisModel",
      "state": {
       "orientation": "vertical",
       "scale": "IPY_MODEL_4d2e89a8979a43ffbfff0f8805969fe9",
       "side": "left",
       "tick_values": {
        "type": null,
        "values": null
       }
      }
     },
     "9254bf7f86684fcba01ae08e4e96f1d4": {
      "model_module": "jupyter-leaflet",
      "model_module_version": "*",
      "model_name": "LeafletGeoJSONModel",
      "state": {
       "_model_module_version": "*",
       "_view_module_version": "*",
       "data": {
        "coordinates": [
         26,
         -30
        ],
        "type": "Point"
       },
       "msg_throttle": 1
      }
     },
     "94ac7280e45c44b29b95187be0e68bc0": {
      "model_module": "jupyter-leaflet",
      "model_module_version": "*",
      "model_name": "LeafletGeoJSONModel",
      "state": {
       "_model_module_version": "*",
       "_view_module_version": "*",
       "data": {
        "coordinates": [
         10,
         62
        ],
        "type": "Point"
       },
       "msg_throttle": 1
      }
     },
     "951ae5b2371041afb25fe81ad4d7a708": {
      "model_module": "jupyter-leaflet",
      "model_module_version": "*",
      "model_name": "LeafletGeoJSONModel",
      "state": {
       "_model_module_version": "*",
       "_view_module_version": "*",
       "data": {
        "coordinates": [
         15,
         49.75
        ],
        "type": "Point"
       },
       "msg_throttle": 1
      }
     },
     "9535d601be234369aa6cc620bb9aa2f8": {
      "model_module": "jupyter-leaflet",
      "model_module_version": "*",
      "model_name": "LeafletGeoJSONModel",
      "state": {
       "_model_module_version": "*",
       "_view_module_version": "*",
       "data": {
        "coordinates": [
         -109.216667,
         10.283333
        ],
        "type": "Point"
       },
       "msg_throttle": 1
      }
     },
     "95aca01434844148abd3580b0bf78125": {
      "model_module": "jupyter-leaflet",
      "model_module_version": "*",
      "model_name": "LeafletGeoJSONModel",
      "state": {
       "_model_module_version": "*",
       "_view_module_version": "*",
       "data": {
        "coordinates": [
         47.75,
         29.5
        ],
        "type": "Point"
       },
       "msg_throttle": 1
      }
     },
     "9796fd4263c445c2a5445d4e2f163f5e": {
      "model_module": "jupyter-leaflet",
      "model_module_version": "*",
      "model_name": "LeafletGeoJSONModel",
      "state": {
       "_model_module_version": "*",
       "_view_module_version": "*",
       "data": {
        "coordinates": [
         -76,
         -10
        ],
        "type": "Point"
       },
       "msg_throttle": 1
      }
     },
     "98e1800ec12f42ce8094c56360fae8c0": {
      "model_module": "jupyter-leaflet",
      "model_module_version": "*",
      "model_name": "LeafletGeoJSONModel",
      "state": {
       "_model_module_version": "*",
       "_view_module_version": "*",
       "data": {
        "coordinates": [
         48,
         6
        ],
        "type": "Point"
       },
       "msg_throttle": 1
      }
     },
     "99c9d0ee3023491ba6eb41bb95858dbc": {
      "model_module": "jupyter-leaflet",
      "model_module_version": "*",
      "model_name": "LeafletGeoJSONModel",
      "state": {
       "_model_module_version": "*",
       "_view_module_version": "*",
       "data": {
        "coordinates": [
         15.166667,
         46.25
        ],
        "type": "Point"
       },
       "msg_throttle": 1
      }
     },
     "9a226b16e8074a1cbac5123549026b26": {
      "model_module": "jupyter-leaflet",
      "model_module_version": "*",
      "model_name": "LeafletGeoJSONModel",
      "state": {
       "_model_module_version": "*",
       "_view_module_version": "*",
       "data": {
        "coordinates": [
         55.666667,
         -4.583333
        ],
        "type": "Point"
       },
       "msg_throttle": 1
      }
     },
     "9a9f9bd6a862484c80a5c8a1a70142eb": {
      "model_module": "jupyter-leaflet",
      "model_module_version": "*",
      "model_name": "LeafletGeoJSONModel",
      "state": {
       "_model_module_version": "*",
       "_view_module_version": "*",
       "data": {
        "coordinates": [
         -98.5795,
         39.828175
        ],
        "type": "Point"
       },
       "msg_throttle": 1
      }
     },
     "9b0a53cb7722468abf8943f9e74ebafa": {
      "model_module": "jupyter-js-widgets",
      "model_module_version": "~2.1.4",
      "model_name": "LayoutModel",
      "state": {
       "_model_module_version": "~2.1.4",
       "_view_module_version": "~2.1.4"
      }
     },
     "9c496cffffa44ed383edd5b58f7fe8ae": {
      "model_module": "jupyter-leaflet",
      "model_module_version": "*",
      "model_name": "LeafletGeoJSONModel",
      "state": {
       "_model_module_version": "*",
       "_view_module_version": "*",
       "data": {
        "coordinates": [
         -56,
         -33
        ],
        "type": "Point"
       },
       "msg_throttle": 1
      }
     },
     "9cab6b9d7ddb4030bfbd644c6af2092d": {
      "model_module": "jupyter-leaflet",
      "model_module_version": "*",
      "model_name": "LeafletGeoJSONModel",
      "state": {
       "_model_module_version": "*",
       "_view_module_version": "*",
       "data": {
        "coordinates": [
         75,
         41
        ],
        "type": "Point"
       },
       "msg_throttle": 1
      }
     },
     "9d54cf9e423843e0b8eba1f5c8366dd2": {
      "model_module": "jupyter-leaflet",
      "model_module_version": "*",
      "model_name": "LeafletGeoJSONModel",
      "state": {
       "_model_module_version": "*",
       "_view_module_version": "*",
       "data": {
        "coordinates": [
         34.373398,
         31.425074
        ],
        "type": "Point"
       },
       "msg_throttle": 1
      }
     },
     "9ef73e1218dd4179a6742a30a9700afc": {
      "model_module": "jupyter-leaflet",
      "model_module_version": "*",
      "model_name": "LeafletGeoJSONModel",
      "state": {
       "_model_module_version": "*",
       "_view_module_version": "*",
       "data": {
        "coordinates": [
         144.736667,
         13.444444
        ],
        "type": "Point"
       },
       "msg_throttle": 1
      }
     },
     "9f17c9cfb7ce48a98fe9c709c9612090": {
      "model_module": "jupyter-leaflet",
      "model_module_version": "*",
      "model_name": "LeafletGeoJSONModel",
      "state": {
       "_model_module_version": "*",
       "_view_module_version": "*",
       "data": {
        "coordinates": [
         50.5,
         26
        ],
        "type": "Point"
       },
       "msg_throttle": 1
      }
     },
     "9fcbebbd4d694ea489c6ad1442f2ba02": {
      "model_module": "jupyter-leaflet",
      "model_module_version": "*",
      "model_name": "LeafletGeoJSONModel",
      "state": {
       "_model_module_version": "*",
       "_view_module_version": "*",
       "data": {
        "coordinates": [
         -85,
         13
        ],
        "type": "Point"
       },
       "msg_throttle": 1
      }
     },
     "a042e424953f42708b9e7e5e2e389995": {
      "model_module": "jupyter-leaflet",
      "model_module_version": "*",
      "model_name": "LeafletGeoJSONModel",
      "state": {
       "_model_module_version": "*",
       "_view_module_version": "*",
       "data": {
        "coordinates": [
         -14,
         14
        ],
        "type": "Point"
       },
       "msg_throttle": 1
      }
     },
     "a18f187ff9234af0b6ddd36dfc126669": {
      "model_module": "jupyter-leaflet",
      "model_module_version": "*",
      "model_name": "LeafletGeoJSONModel",
      "state": {
       "_model_module_version": "*",
       "_view_module_version": "*",
       "data": {
        "coordinates": [
         -62.75,
         17.333333
        ],
        "type": "Point"
       },
       "msg_throttle": 1
      }
     },
     "a1a6f7e069ff4f9494a456e775d1d4f0": {
      "model_module": "jupyter-leaflet",
      "model_module_version": "*",
      "model_name": "LeafletGeoJSONModel",
      "state": {
       "_model_module_version": "*",
       "_view_module_version": "*",
       "data": {
        "coordinates": [
         127.5,
         37
        ],
        "type": "Point"
       },
       "msg_throttle": 1
      }
     },
     "a34f30804db64e8fba3248e2501eac2c": {
      "model_module": "jupyter-leaflet",
      "model_module_version": "*",
      "model_name": "LeafletGeoJSONModel",
      "state": {
       "_model_module_version": "*",
       "_view_module_version": "*",
       "data": {
        "coordinates": [
         57,
         21
        ],
        "type": "Point"
       },
       "msg_throttle": 1
      }
     },
     "a34f6e2c8d294ae58c5c97da3c8b26ab": {
      "model_module": "jupyter-leaflet",
      "model_module_version": "*",
      "model_name": "LeafletGeoJSONModel",
      "state": {
       "_model_module_version": "*",
       "_view_module_version": "*",
       "data": {
        "coordinates": [
         151,
         -17.5
        ],
        "type": "Point"
       },
       "msg_throttle": 1
      }
     },
     "a37b4c2965014dadb9dac29f4715aa8e": {
      "model_module": "jupyter-leaflet",
      "model_module_version": "*",
      "model_name": "LeafletGeoJSONModel",
      "state": {
       "_model_module_version": "*",
       "_view_module_version": "*",
       "data": {
        "coordinates": [
         98,
         22
        ],
        "type": "Point"
       },
       "msg_throttle": 1
      }
     },
     "a54da2d7709d4b97abca15370685473c": {
      "model_module": "jupyter-leaflet",
      "model_module_version": "*",
      "model_name": "LeafletGeoJSONModel",
      "state": {
       "_model_module_version": "*",
       "_view_module_version": "*",
       "data": {
        "coordinates": [
         31.5,
         -26.5
        ],
        "type": "Point"
       },
       "msg_throttle": 1
      }
     },
     "a5ed36b7d3494d089be31cea6d919743": {
      "model_module": "jupyter-leaflet",
      "model_module_version": "*",
      "model_name": "LeafletGeoJSONModel",
      "state": {
       "_model_module_version": "*",
       "_view_module_version": "*",
       "data": {
        "coordinates": [
         113.559722,
         22.157778
        ],
        "type": "Point"
       },
       "msg_throttle": 1
      }
     },
     "a64e4ae79f54499891fa4a60a8d6f197": {
      "model_module": "jupyter-leaflet",
      "model_module_version": "*",
      "model_name": "LeafletGeoJSONModel",
      "state": {
       "_model_module_version": "*",
       "_view_module_version": "*",
       "data": {
        "coordinates": [
         159,
         -8
        ],
        "type": "Point"
       },
       "msg_throttle": 1
      }
     },
     "a6b5c8ceed174dde858c7562fdd6f57f": {
      "model_module": "bqplot",
      "model_module_version": "^0.2.3",
      "model_name": "FigureModel",
      "state": {
       "_dom_classes": [],
       "animation_duration": 500,
       "axes": [
        "IPY_MODEL_9241ea3685444a45bf66fdfe0e10e00c",
        "IPY_MODEL_078085a643244bd6888ecbb3518f6647"
       ],
       "layout": "IPY_MODEL_5c31dd0fb89042dba08ec646230c4d3b",
       "marks": [
        "IPY_MODEL_704acb6ca3b642b996e3789402be60c1"
       ],
       "max_aspect_ratio": 6,
       "scale_x": "IPY_MODEL_715bd79909e6491a8121d5979b49c07d",
       "scale_y": "IPY_MODEL_64df76ecf171447da9e0fd88d614c2b2",
       "title": "Indicators"
      }
     },
     "a866b5160b514543b739abeb65dd0c00": {
      "model_module": "jupyter-leaflet",
      "model_module_version": "*",
      "model_name": "LeafletGeoJSONModel",
      "state": {
       "_model_module_version": "*",
       "_view_module_version": "*",
       "data": {
        "coordinates": [
         167,
         -16
        ],
        "type": "Point"
       },
       "msg_throttle": 1
      }
     },
     "a8fdceb176ad4ca6b90e631a4a74e8b0": {
      "model_module": "jupyter-leaflet",
      "model_module_version": "*",
      "model_name": "LeafletGeoJSONModel",
      "state": {
       "_model_module_version": "*",
       "_view_module_version": "*",
       "data": {
        "coordinates": [
         70,
         30
        ],
        "type": "Point"
       },
       "msg_throttle": 1
      }
     },
     "a91ea0e8c23b490eb746f3cdf83c108f": {
      "model_module": "jupyter-leaflet",
      "model_module_version": "*",
      "model_name": "LeafletGeoJSONModel",
      "state": {
       "_model_module_version": "*",
       "_view_module_version": "*",
       "data": {
        "coordinates": [
         12.45,
         41.9
        ],
        "type": "Point"
       },
       "msg_throttle": 1
      }
     },
     "a9290e4bd4a54a3e818bc9438ead6594": {
      "model_module": "jupyter-leaflet",
      "model_module_version": "*",
      "model_name": "LeafletGeoJSONModel",
      "state": {
       "_model_module_version": "*",
       "_view_module_version": "*",
       "data": {
        "coordinates": [
         10,
         56
        ],
        "type": "Point"
       },
       "msg_throttle": 1
      }
     },
     "a9d6ec11fb1342e987cb789251cc31d6": {
      "model_module": "jupyter-leaflet",
      "model_module_version": "*",
      "model_name": "LeafletGeoJSONModel",
      "state": {
       "_model_module_version": "*",
       "_view_module_version": "*",
       "data": {
        "coordinates": [
         -90.25,
         15.5
        ],
        "type": "Point"
       },
       "msg_throttle": 1
      }
     },
     "ab0dbfbb3c224ad998630fdfd528618c": {
      "model_module": "jupyter-leaflet",
      "model_module_version": "*",
      "model_name": "LeafletGeoJSONModel",
      "state": {
       "_model_module_version": "*",
       "_view_module_version": "*",
       "data": {
        "coordinates": [
         -66.499894,
         18.248288
        ],
        "type": "Point"
       },
       "msg_throttle": 1
      }
     },
     "ab3ca9ec7e2d46d8ad8091fba9f51cce": {
      "model_module": "jupyter-leaflet",
      "model_module_version": "*",
      "model_name": "LeafletGeoJSONModel",
      "state": {
       "_model_module_version": "*",
       "_view_module_version": "*",
       "data": {
        "coordinates": [
         15.5,
         45.166667
        ],
        "type": "Point"
       },
       "msg_throttle": 1
      }
     },
     "aef91584865e48a8b04bc22b599113be": {
      "model_module": "jupyter-leaflet",
      "model_module_version": "*",
      "model_name": "LeafletGeoJSONModel",
      "state": {
       "_model_module_version": "*",
       "_view_module_version": "*",
       "data": {
        "coordinates": [
         -61,
         11
        ],
        "type": "Point"
       },
       "msg_throttle": 1
      }
     },
     "b00e3906ce4542349f354d628bc2dc8f": {
      "model_module": "jupyter-leaflet",
      "model_module_version": "*",
      "model_name": "LeafletGeoJSONModel",
      "state": {
       "_model_module_version": "*",
       "_view_module_version": "*",
       "data": {
        "coordinates": [
         -59.166667,
         -51.75
        ],
        "type": "Point"
       },
       "msg_throttle": 1
      }
     },
     "b07ebd3f9ba84bfea51c5393a99698cd": {
      "model_module": "jupyter-leaflet",
      "model_module_version": "*",
      "model_name": "LeafletGeoJSONModel",
      "state": {
       "_model_module_version": "*",
       "_view_module_version": "*",
       "data": {
        "coordinates": [
         -2.333333,
         49.583333
        ],
        "type": "Point"
       },
       "msg_throttle": 1
      }
     },
     "b140de5301e1433992d5cb666b841349": {
      "model_module": "jupyter-leaflet",
      "model_module_version": "*",
      "model_name": "LeafletGeoJSONModel",
      "state": {
       "_model_module_version": "*",
       "_view_module_version": "*",
       "data": {
        "coordinates": [
         107.833333,
         16.166667
        ],
        "type": "Point"
       },
       "msg_throttle": 1
      }
     },
     "b19d17ecc9ce49cfbceb668442be0fa0": {
      "model_module": "jupyter-leaflet",
      "model_module_version": "*",
      "model_name": "LeafletGeoJSONModel",
      "state": {
       "_model_module_version": "*",
       "_view_module_version": "*",
       "data": {
        "coordinates": [
         -2,
         8
        ],
        "type": "Point"
       },
       "msg_throttle": 1
      }
     },
     "b26b529201e44dd097f8137560062dcb": {
      "model_module": "jupyter-leaflet",
      "model_module_version": "*",
      "model_name": "LeafletGeoJSONModel",
      "state": {
       "_model_module_version": "*",
       "_view_module_version": "*",
       "data": {
        "coordinates": [
         8,
         47
        ],
        "type": "Point"
       },
       "msg_throttle": 1
      }
     },
     "b2e788b03f8f4b04af9b7bee20a4a0b2": {
      "model_module": "jupyter-leaflet",
      "model_module_version": "*",
      "model_name": "LeafletGeoJSONModel",
      "state": {
       "_model_module_version": "*",
       "_view_module_version": "*",
       "data": {
        "coordinates": [
         68,
         48
        ],
        "type": "Point"
       },
       "msg_throttle": 1
      }
     },
     "b78825735c3d4708891e9c9f24eafcb6": {
      "model_module": "jupyter-leaflet",
      "model_module_version": "*",
      "model_name": "LeafletGeoJSONModel",
      "state": {
       "_model_module_version": "*",
       "_view_module_version": "*",
       "data": {
        "coordinates": [
         30,
         -15
        ],
        "type": "Point"
       },
       "msg_throttle": 1
      }
     },
     "b7964063cfc04dd787ea65651fa65003": {
      "model_module": "jupyter-leaflet",
      "model_module_version": "*",
      "model_name": "LeafletGeoJSONModel",
      "state": {
       "_model_module_version": "*",
       "_view_module_version": "*",
       "data": {
        "coordinates": [
         -60.966667,
         13.883333
        ],
        "type": "Point"
       },
       "msg_throttle": 1
      }
     },
     "bb94cdade5e64b7b947c3da803d1fe03": {
      "model_module": "jupyter-leaflet",
      "model_module_version": "*",
      "model_name": "LeafletGeoJSONModel",
      "state": {
       "_model_module_version": "*",
       "_view_module_version": "*",
       "data": {
        "coordinates": [
         1.5,
         42.5
        ],
        "type": "Point"
       },
       "msg_throttle": 1
      }
     },
     "bc929f5b124447bcb447ec084f36e356": {
      "model_module": "jupyter-leaflet",
      "model_module_version": "*",
      "model_name": "LeafletGeoJSONModel",
      "state": {
       "_model_module_version": "*",
       "_view_module_version": "*",
       "data": {
        "coordinates": [
         25,
         0
        ],
        "type": "Point"
       },
       "msg_throttle": 1
      }
     },
     "bd4e12077dde41afafbe78a20b001790": {
      "model_module": "jupyter-leaflet",
      "model_module_version": "*",
      "model_name": "LeafletGeoJSONModel",
      "state": {
       "_model_module_version": "*",
       "_view_module_version": "*",
       "data": {
        "coordinates": [
         134,
         6
        ],
        "type": "Point"
       },
       "msg_throttle": 1
      }
     },
     "c005f4b16f2b48fabfc6e7224a94da6e": {
      "model_module": "jupyter-leaflet",
      "model_module_version": "*",
      "model_name": "LeafletGeoJSONModel",
      "state": {
       "_model_module_version": "*",
       "_view_module_version": "*",
       "data": {
        "coordinates": [
         60,
         40
        ],
        "type": "Point"
       },
       "msg_throttle": 1
      }
     },
     "c162454415514cb28792de2874b4c8be": {
      "model_module": "jupyter-leaflet",
      "model_module_version": "*",
      "model_name": "LeafletGeoJSONModel",
      "state": {
       "_model_module_version": "*",
       "_view_module_version": "*",
       "data": {
        "coordinates": [
         -15,
         12
        ],
        "type": "Point"
       },
       "msg_throttle": 1
      }
     },
     "c36d7e62047f4a79afefc3b34333cbf1": {
      "model_module": "jupyter-leaflet",
      "model_module_version": "*",
      "model_name": "LeafletGeoJSONModel",
      "state": {
       "_model_module_version": "*",
       "_view_module_version": "*",
       "data": {
        "coordinates": [
         24,
         56
        ],
        "type": "Point"
       },
       "msg_throttle": 1
      }
     },
     "c3aaaff3c7b44918ae13124025aeaa74": {
      "model_module": "jupyter-leaflet",
      "model_module_version": "*",
      "model_name": "LeafletGeoJSONModel",
      "state": {
       "_model_module_version": "*",
       "_view_module_version": "*",
       "data": {
        "coordinates": [
         19.5,
         48.666667
        ],
        "type": "Point"
       },
       "msg_throttle": 1
      }
     },
     "c3ffc9323b6e45b4b0badaecbb150fd0": {
      "model_module": "jupyter-leaflet",
      "model_module_version": "*",
      "model_name": "LeafletGeoJSONModel",
      "state": {
       "_model_module_version": "*",
       "_view_module_version": "*",
       "data": {
        "coordinates": [
         135,
         -25
        ],
        "type": "Point"
       },
       "msg_throttle": 1
      }
     },
     "c4f51cdf1df44acaac1d4cf73c276c55": {
      "model_module": "jupyter-leaflet",
      "model_module_version": "*",
      "model_name": "LeafletGeoJSONModel",
      "state": {
       "_model_module_version": "*",
       "_view_module_version": "*",
       "data": {
        "coordinates": [
         105,
         18
        ],
        "type": "Point"
       },
       "msg_throttle": 1
      }
     },
     "c582a5cf1a2e4f4f8c0dc5a3ae643d60": {
      "model_module": "jupyter-leaflet",
      "model_module_version": "*",
      "model_name": "LeafletGeoJSONModel",
      "state": {
       "_model_module_version": "*",
       "_view_module_version": "*",
       "data": {
        "coordinates": [
         73,
         -53
        ],
        "type": "Point"
       },
       "msg_throttle": 1
      }
     },
     "c65898b5d7684ec4a946aa28fb12830f": {
      "model_module": "jupyter-leaflet",
      "model_module_version": "*",
      "model_name": "LeafletGeoJSONModel",
      "state": {
       "_model_module_version": "*",
       "_view_module_version": "*",
       "data": {
        "coordinates": [
         167,
         10
        ],
        "type": "Point"
       },
       "msg_throttle": 1
      }
     },
     "c72a756f5bed41f3a497f5c1c1507df6": {
      "model_module": "jupyter-leaflet",
      "model_module_version": "*",
      "model_name": "LeafletGeoJSONModel",
      "state": {
       "_model_module_version": "*",
       "_view_module_version": "*",
       "data": {
        "coordinates": [
         -96,
         60
        ],
        "type": "Point"
       },
       "msg_throttle": 1
      }
     },
     "c770b8d16a7c4d49819c92bf4f2b6477": {
      "model_module": "jupyter-leaflet",
      "model_module_version": "*",
      "model_name": "LeafletGeoJSONModel",
      "state": {
       "_model_module_version": "*",
       "_view_module_version": "*",
       "data": {
        "coordinates": [
         57.583333,
         -20.3
        ],
        "type": "Point"
       },
       "msg_throttle": 1
      }
     },
     "c7b77c5c15c34b0ea9a9b2a8a71e56ec": {
      "model_module": "jupyter-leaflet",
      "model_module_version": "*",
      "model_name": "LeafletGeoJSONModel",
      "state": {
       "_model_module_version": "*",
       "_view_module_version": "*",
       "data": {
        "coordinates": [
         -7,
         62
        ],
        "type": "Point"
       },
       "msg_throttle": 1
      }
     },
     "c8f42db1f214416d85f2c3f51f384652": {
      "model_module": "jupyter-leaflet",
      "model_module_version": "*",
      "model_name": "LeafletGeoJSONModel",
      "state": {
       "_model_module_version": "*",
       "_view_module_version": "*",
       "data": {
        "coordinates": [
         -33,
         -56
        ],
        "type": "Point"
       },
       "msg_throttle": 1
      }
     },
     "c9e267f73fe949eb83d196862a68d664": {
      "model_module": "jupyter-leaflet",
      "model_module_version": "*",
      "model_name": "LeafletGeoJSONModel",
      "state": {
       "_model_module_version": "*",
       "_view_module_version": "*",
       "data": {
        "coordinates": [
         47.5,
         15.5
        ],
        "type": "Point"
       },
       "msg_throttle": 1
      }
     },
     "c9e9d5ddba964a4aaf1056ad2e4ed498": {
      "model_module": "jupyter-leaflet",
      "model_module_version": "*",
      "model_name": "LeafletGeoJSONModel",
      "state": {
       "_model_module_version": "*",
       "_view_module_version": "*",
       "data": {
        "coordinates": [
         -40,
         72
        ],
        "type": "Point"
       },
       "msg_throttle": 1
      }
     },
     "cb67bea6d9934f18a54ed7dfd272ae98": {
      "model_module": "jupyter-leaflet",
      "model_module_version": "*",
      "model_name": "LeafletGeoJSONModel",
      "state": {
       "_model_module_version": "*",
       "_view_module_version": "*",
       "data": {
        "coordinates": [
         -4,
         17
        ],
        "type": "Point"
       },
       "msg_throttle": 1
      }
     },
     "cdbc2affe4ce4fe88b4ef6bb1e723317": {
      "model_module": "jupyter-leaflet",
      "model_module_version": "*",
      "model_name": "LeafletGeoJSONModel",
      "state": {
       "_model_module_version": "*",
       "_view_module_version": "*",
       "data": {
        "coordinates": [
         -71,
         -30
        ],
        "type": "Point"
       },
       "msg_throttle": 1
      }
     },
     "ce09011eb48f457a88b5e3bbc7f7a40c": {
      "model_module": "jupyter-leaflet",
      "model_module_version": "*",
      "model_name": "LeafletGeoJSONModel",
      "state": {
       "_model_module_version": "*",
       "_view_module_version": "*",
       "data": {
        "coordinates": [
         -2.116667,
         49.216667
        ],
        "type": "Point"
       },
       "msg_throttle": 1
      }
     },
     "ce2a2e8e83c84b8bb2b4e7ebcace07dd": {
      "model_module": "jupyter-leaflet",
      "model_module_version": "*",
      "model_name": "LeafletGeoJSONModel",
      "state": {
       "_model_module_version": "*",
       "_view_module_version": "*",
       "data": {
        "coordinates": [
         -71.583333,
         21.733333
        ],
        "type": "Point"
       },
       "msg_throttle": 1
      }
     },
     "ce6f80690c324a858ea5267c4ce4c554": {
      "model_module": "jupyter-leaflet",
      "model_module_version": "*",
      "model_name": "LeafletGeoJSONModel",
      "state": {
       "_model_module_version": "*",
       "_view_module_version": "*",
       "data": {
        "coordinates": [
         35,
         -6
        ],
        "type": "Point"
       },
       "msg_throttle": 1
      }
     },
     "d25182bff2964457ad2b4aabb231df67": {
      "model_module": "jupyter-leaflet",
      "model_module_version": "*",
      "model_name": "LeafletGeoJSONModel",
      "state": {
       "_model_module_version": "*",
       "_view_module_version": "*",
       "data": {
        "coordinates": [
         3.4,
         -54.433333
        ],
        "type": "Point"
       },
       "msg_throttle": 1
      }
     },
     "d3733a5eeba44d6b95daf977ce76ae75": {
      "model_module": "jupyter-leaflet",
      "model_module_version": "*",
      "model_name": "LeafletGeoJSONModel",
      "state": {
       "_model_module_version": "*",
       "_view_module_version": "*",
       "data": {
        "coordinates": [
         -161.583333,
         -16.083333
        ],
        "type": "Point"
       },
       "msg_throttle": 1
      }
     },
     "d44c9394f8a74774883feb20cc794959": {
      "model_module": "jupyter-leaflet",
      "model_module_version": "*",
      "model_name": "LeafletGeoJSONModel",
      "state": {
       "_model_module_version": "*",
       "_view_module_version": "*",
       "data": {
        "coordinates": [
         105,
         13
        ],
        "type": "Point"
       },
       "msg_throttle": 1
      }
     },
     "d4b9e6c137ac49d7a2d4fd05f68e5ca5": {
      "model_module": "jupyter-leaflet",
      "model_module_version": "*",
      "model_name": "LeafletGeoJSONModel",
      "state": {
       "_model_module_version": "*",
       "_view_module_version": "*",
       "data": {
        "coordinates": [
         -86.5,
         15
        ],
        "type": "Point"
       },
       "msg_throttle": 1
      }
     },
     "d639f4d529e54ac7b79159dcbf1185e6": {
      "model_module": "jupyter-leaflet",
      "model_module_version": "*",
      "model_name": "LeafletGeoJSONModel",
      "state": {
       "_model_module_version": "*",
       "_view_module_version": "*",
       "data": {
        "coordinates": [
         -56,
         4
        ],
        "type": "Point"
       },
       "msg_throttle": 1
      }
     },
     "d6cdd47d6a0c4e90ad7f98b0b805d6b8": {
      "model_module": "jupyter-leaflet",
      "model_module_version": "*",
      "model_name": "LeafletGeoJSONModel",
      "state": {
       "_model_module_version": "*",
       "_view_module_version": "*",
       "data": {
        "coordinates": [
         12,
         6
        ],
        "type": "Point"
       },
       "msg_throttle": 1
      }
     },
     "da28d16747034219b3dfcb2f54f38f2b": {
      "model_module": "jupyter-leaflet",
      "model_module_version": "*",
      "model_name": "LeafletGeoJSONModel",
      "state": {
       "_model_module_version": "*",
       "_view_module_version": "*",
       "data": {
        "coordinates": [
         9.533333,
         47.166667
        ],
        "type": "Point"
       },
       "msg_throttle": 1
      }
     },
     "da4f2207fa064a03b4e45b36dc6122d4": {
      "model_module": "jupyter-leaflet",
      "model_module_version": "*",
      "model_name": "LeafletGeoJSONModel",
      "state": {
       "_model_module_version": "*",
       "_view_module_version": "*",
       "data": {
        "coordinates": [
         25,
         46
        ],
        "type": "Point"
       },
       "msg_throttle": 1
      }
     },
     "dc03f936d3a34e0d9c0c42df719efbd6": {
      "model_module": "jupyter-leaflet",
      "model_module_version": "*",
      "model_name": "LeafletGeoJSONModel",
      "state": {
       "_model_module_version": "*",
       "_view_module_version": "*",
       "data": {
        "coordinates": [
         -77.5,
         -2
        ],
        "type": "Point"
       },
       "msg_throttle": 1
      }
     },
     "dc3af4568eb443ffb6d29820aa659c73": {
      "model_module": "jupyter-leaflet",
      "model_module_version": "*",
      "model_name": "LeafletGeoJSONModel",
      "state": {
       "_model_module_version": "*",
       "_view_module_version": "*",
       "data": {
        "coordinates": [
         -5,
         32
        ],
        "type": "Point"
       },
       "msg_throttle": 1
      }
     },
     "dc5a4e1e49fd42b08c77fbbc5ce09c3c": {
      "model_module": "jupyter-leaflet",
      "model_module_version": "*",
      "model_name": "LeafletGeoJSONModel",
      "state": {
       "_model_module_version": "*",
       "_view_module_version": "*",
       "data": {
        "coordinates": [
         -8,
         53
        ],
        "type": "Point"
       },
       "msg_throttle": 1
      }
     },
     "dd0fbbef84c44b8189082ca90cdd2e21": {
      "model_module": "jupyter-leaflet",
      "model_module_version": "*",
      "model_name": "LeafletGeoJSONModel",
      "state": {
       "_model_module_version": "*",
       "_view_module_version": "*",
       "data": {
        "coordinates": [
         6.166667,
         49.75
        ],
        "type": "Point"
       },
       "msg_throttle": 1
      }
     },
     "deb095704e644cb68070a2e5827ddedb": {
      "model_module": "jupyter-leaflet",
      "model_module_version": "*",
      "model_name": "LeafletGeoJSONModel",
      "state": {
       "_model_module_version": "*",
       "_view_module_version": "*",
       "data": {
        "coordinates": [
         -57.996389,
         -22.993333
        ],
        "type": "Point"
       },
       "msg_throttle": 1
      }
     },
     "dee548437bf54cfdb59b8fcbf778b707": {
      "model_module": "jupyter-leaflet",
      "model_module_version": "*",
      "model_name": "LeafletGeoJSONModel",
      "state": {
       "_model_module_version": "*",
       "_view_module_version": "*",
       "data": {
        "coordinates": [
         -59.533333,
         13.166667
        ],
        "type": "Point"
       },
       "msg_throttle": 1
      }
     },
     "e00df84d84e04561a15ff43ada218674": {
      "model_module": "jupyter-leaflet",
      "model_module_version": "*",
      "model_name": "LeafletGeoJSONModel",
      "state": {
       "_model_module_version": "*",
       "_view_module_version": "*",
       "data": {
        "coordinates": [
         -53,
         4
        ],
        "type": "Point"
       },
       "msg_throttle": 1
      }
     },
     "e1386b94ec624d298142b1be6c3a55d5": {
      "model_module": "jupyter-leaflet",
      "model_module_version": "*",
      "model_name": "LeafletGeoJSONModel",
      "state": {
       "_model_module_version": "*",
       "_view_module_version": "*",
       "data": {
        "coordinates": [
         127,
         40
        ],
        "type": "Point"
       },
       "msg_throttle": 1
      }
     },
     "e2d4b52392b343bcb7000c8cc59ce258": {
      "model_module": "jupyter-leaflet",
      "model_module_version": "*",
      "model_name": "LeafletGeoJSONModel",
      "state": {
       "_model_module_version": "*",
       "_view_module_version": "*",
       "data": {
        "coordinates": [
         -170,
         -5
        ],
        "type": "Point"
       },
       "msg_throttle": 1
      }
     },
     "e633e4999d014af086e9961c3769a06a": {
      "model_module": "jupyter-leaflet",
      "model_module_version": "*",
      "model_name": "LeafletGeoJSONModel",
      "state": {
       "_model_module_version": "*",
       "_view_module_version": "*",
       "data": {
        "coordinates": [
         22,
         39
        ],
        "type": "Point"
       },
       "msg_throttle": 1
      }
     },
     "e65851db816646e7b83c35064932dbfa": {
      "model_module": "jupyter-leaflet",
      "model_module_version": "*",
      "model_name": "LeafletGeoJSONModel",
      "state": {
       "_model_module_version": "*",
       "_view_module_version": "*",
       "data": {
        "coordinates": [
         100,
         60
        ],
        "type": "Point"
       },
       "msg_throttle": 1
      }
     },
     "e69b64d17a36486d93973c3fc5d36c34": {
      "model_module": "jupyter-leaflet",
      "model_module_version": "*",
      "model_name": "LeafletGeoJSONModel",
      "state": {
       "_model_module_version": "*",
       "_view_module_version": "*",
       "data": {
        "coordinates": [
         -10,
         11
        ],
        "type": "Point"
       },
       "msg_throttle": 1
      }
     },
     "e6a3366a5aef463c8c4886405003c65a": {
      "model_module": "jupyter-leaflet",
      "model_module_version": "*",
      "model_name": "LeafletGeoJSONModel",
      "state": {
       "_model_module_version": "*",
       "_view_module_version": "*",
       "data": {
        "coordinates": [
         35,
         -18.25
        ],
        "type": "Point"
       },
       "msg_throttle": 1
      }
     },
     "e918355ae65047cb8fa1d03efd5ef30b": {
      "model_module": "jupyter-leaflet",
      "model_module_version": "*",
      "model_name": "LeafletGeoJSONModel",
      "state": {
       "_model_module_version": "*",
       "_view_module_version": "*",
       "data": {
        "coordinates": [
         28.25,
         -29.5
        ],
        "type": "Point"
       },
       "msg_throttle": 1
      }
     },
     "e929a8157d89420bbb7642722ba8984e": {
      "model_module": "jupyter-leaflet",
      "model_module_version": "*",
      "model_name": "LeafletGeoJSONModel",
      "state": {
       "_model_module_version": "*",
       "_view_module_version": "*",
       "data": {
        "coordinates": [
         -176.2,
         -13.3
        ],
        "type": "Point"
       },
       "msg_throttle": 1
      }
     },
     "e96df09203b44d04a3e262615983325d": {
      "model_module": "jupyter-leaflet",
      "model_module_version": "*",
      "model_name": "LeafletGeoJSONModel",
      "state": {
       "_model_module_version": "*",
       "_view_module_version": "*",
       "data": {
        "coordinates": [
         30,
         -3.5
        ],
        "type": "Point"
       },
       "msg_throttle": 1
      }
     },
     "e9a97e1ef05249449162703d50ebd383": {
      "model_module": "jupyter-leaflet",
      "model_module_version": "*",
      "model_name": "LeafletGeoJSONModel",
      "state": {
       "_model_module_version": "*",
       "_view_module_version": "*",
       "data": {
        "coordinates": [
         -88.916667,
         13.833333
        ],
        "type": "Point"
       },
       "msg_throttle": 1
      }
     },
     "eaf3a5a492994db681a06dd7ad23cf8e": {
      "model_module": "jupyter-leaflet",
      "model_module_version": "*",
      "model_name": "LeafletGeoJSONModel",
      "state": {
       "_model_module_version": "*",
       "_view_module_version": "*",
       "data": {
        "coordinates": [
         -80.666667,
         19.5
        ],
        "type": "Point"
       },
       "msg_throttle": 1
      }
     },
     "eb0168fe5a5849a69927ca3d4fde95cf": {
      "model_module": "jupyter-leaflet",
      "model_module_version": "*",
      "model_name": "LeafletGeoJSONModel",
      "state": {
       "_model_module_version": "*",
       "_view_module_version": "*",
       "data": {
        "coordinates": [
         53,
         32
        ],
        "type": "Point"
       },
       "msg_throttle": 1
      }
     },
     "eb6770fa59274cceb2dc9689a59faf97": {
      "model_module": "jupyter-leaflet",
      "model_module_version": "*",
      "model_name": "LeafletGeoJSONModel",
      "state": {
       "_model_module_version": "*",
       "_view_module_version": "*",
       "data": {
        "coordinates": [
         28,
         53
        ],
        "type": "Point"
       },
       "msg_throttle": 1
      }
     },
     "eb8e90e7f7874acb98409d7c13a0d0f3": {
      "model_module": "jupyter-leaflet",
      "model_module_version": "*",
      "model_name": "LeafletGeoJSONModel",
      "state": {
       "_model_module_version": "*",
       "_view_module_version": "*",
       "data": {
        "coordinates": [
         42.5,
         11.5
        ],
        "type": "Point"
       },
       "msg_throttle": 1
      }
     },
     "eca16e42305c4168badfba59d7e20731": {
      "model_module": "jupyter-js-widgets",
      "model_module_version": "~2.1.4",
      "model_name": "LayoutModel",
      "state": {
       "_model_module_version": "~2.1.4",
       "_view_module_version": "~2.1.4",
       "height": "450px",
       "width": "45%"
      }
     },
     "eca8c8d7d04f4219bbe94bab5541cdee": {
      "model_module": "jupyter-leaflet",
      "model_module_version": "*",
      "model_name": "LeafletGeoJSONModel",
      "state": {
       "_model_module_version": "*",
       "_view_module_version": "*",
       "data": {
        "coordinates": [
         2.25,
         9.5
        ],
        "type": "Point"
       },
       "msg_throttle": 1
      }
     },
     "ede9c7680617446bb177c41e98695bbc": {
      "model_module": "jupyter-leaflet",
      "model_module_version": "*",
      "model_name": "LeafletGeoJSONModel",
      "state": {
       "_model_module_version": "*",
       "_view_module_version": "*",
       "data": {
        "coordinates": [
         63.84911,
         41.707542
        ],
        "type": "Point"
       },
       "msg_throttle": 1
      }
     },
     "edf88d9410fb4d4fa15cd18dcda4706a": {
      "model_module": "jupyter-leaflet",
      "model_module_version": "*",
      "model_name": "LeafletGeoJSONModel",
      "state": {
       "_model_module_version": "*",
       "_view_module_version": "*",
       "data": {
        "coordinates": [
         30,
         -2
        ],
        "type": "Point"
       },
       "msg_throttle": 1
      }
     },
     "f19bc2fe2c534e17b92afef86b071e94": {
      "model_module": "jupyter-leaflet",
      "model_module_version": "*",
      "model_name": "LeafletGeoJSONModel",
      "state": {
       "_model_module_version": "*",
       "_view_module_version": "*",
       "data": {
        "coordinates": [
         47.333333,
         -11.5
        ],
        "type": "Point"
       },
       "msg_throttle": 1
      }
     },
     "f1b6189d652b4f7aa11fd020a541f5fd": {
      "model_module": "bqplot",
      "model_module_version": "^0.2.3",
      "model_name": "LabelModel",
      "state": {
       "_model_module": "bqplot",
       "_model_module_version": "^0.2.3",
       "_view_module": "bqplot",
       "_view_module_version": "^0.2.3",
       "apply_clip": true,
       "color": {
        "type": "<U5",
        "values": [
         "green"
        ]
       },
       "colors": [
        "#1f77b4",
        "#ff7f0e",
        "#2ca02c",
        "#d62728",
        "#9467bd",
        "#8c564b",
        "#e377c2",
        "#7f7f7f",
        "#bcbd22",
        "#17becf"
       ],
       "default_size": 16,
       "display_legend": false,
       "enable_hover": true,
       "hovered_style": {},
       "interactions": {
        "hover": "tooltip"
       },
       "labels": [],
       "msg_throttle": 1,
       "opacity": {
        "type": null,
        "values": null
       },
       "preserve_domain": {},
       "rotation": {
        "type": null,
        "values": null
       },
       "scales": {},
       "scales_metadata": {
        "color": {
         "dimension": "color"
        },
        "opacity": {
         "dimension": "opacity"
        },
        "size": {
         "dimension": "size"
        },
        "x": {
         "dimension": "x",
         "orientation": "horizontal"
        },
        "y": {
         "dimension": "y",
         "orientation": "vertical"
        }
       },
       "selected": [],
       "selected_style": {},
       "size": {
        "type": null,
        "values": null
       },
       "text": {
        "type": "<U27",
        "values": [
         "Draw a polygon over the map"
        ]
       },
       "tooltip": null,
       "tooltip_location": "mouse",
       "tooltip_style": {
        "opacity": 0.9
       },
       "unhovered_style": {},
       "unselected_style": {},
       "visible": true,
       "x": {
        "type": "float",
        "values": [
         0.25
        ]
       },
       "y": {
        "type": "float",
        "values": [
         0.5
        ]
       }
      }
     },
     "f24a5905b6fb4620b82fa4f5fcb6d01b": {
      "model_module": "jupyter-leaflet",
      "model_module_version": "*",
      "model_name": "LeafletGeoJSONModel",
      "state": {
       "_model_module_version": "*",
       "_view_module_version": "*",
       "data": {
        "coordinates": [
         17,
         25
        ],
        "type": "Point"
       },
       "msg_throttle": 1
      }
     },
     "f26a48017748485aac422b5792d9a21b": {
      "model_module": "jupyter-leaflet",
      "model_module_version": "*",
      "model_name": "LeafletGeoJSONModel",
      "state": {
       "_model_module_version": "*",
       "_view_module_version": "*",
       "data": {
        "coordinates": [
         66,
         33
        ],
        "type": "Point"
       },
       "msg_throttle": 1
      }
     },
     "f3d95177e48a4c4cb8d2c1ca33fa6bd0": {
      "model_module": "jupyter-leaflet",
      "model_module_version": "*",
      "model_name": "LeafletGeoJSONModel",
      "state": {
       "_model_module_version": "*",
       "_view_module_version": "*",
       "data": {
        "coordinates": [
         15,
         62
        ],
        "type": "Point"
       },
       "msg_throttle": 1
      }
     },
     "f40d721ee4e049b39f04da03e1ed6068": {
      "model_module": "jupyter-leaflet",
      "model_module_version": "*",
      "model_name": "LeafletGeoJSONModel",
      "state": {
       "_model_module_version": "*",
       "_view_module_version": "*",
       "data": {
        "coordinates": [
         36,
         31
        ],
        "type": "Point"
       },
       "msg_throttle": 1
      }
     },
     "f49e32659ba44fd59b213605f474c454": {
      "model_module": "jupyter-leaflet",
      "model_module_version": "*",
      "model_name": "LeafletGeoJSONModel",
      "state": {
       "_model_module_version": "*",
       "_view_module_version": "*",
       "data": {
        "coordinates": [
         34,
         -13.5
        ],
        "type": "Point"
       },
       "msg_throttle": 1
      }
     },
     "f54b0fe93fa144a8818a3fe04759dabc": {
      "model_module": "jupyter-leaflet",
      "model_module_version": "*",
      "model_name": "LeafletGeoJSONModel",
      "state": {
       "_model_module_version": "*",
       "_view_module_version": "*",
       "data": {
        "coordinates": [
         47.5,
         40.5
        ],
        "type": "Point"
       },
       "msg_throttle": 1
      }
     },
     "f6473e49852b4d3b940daecf69426b3d": {
      "model_module": "jupyter-leaflet",
      "model_module_version": "*",
      "model_name": "LeafletGeoJSONModel",
      "state": {
       "_model_module_version": "*",
       "_view_module_version": "*",
       "data": {
        "coordinates": [
         39,
         15
        ],
        "type": "Point"
       },
       "msg_throttle": 1
      }
     },
     "f696383bcd4547a4b620ea69cc6faa55": {
      "model_module": "jupyter-leaflet",
      "model_module_version": "*",
      "model_name": "LeafletGeoJSONModel",
      "state": {
       "_model_module_version": "*",
       "_view_module_version": "*",
       "data": {
        "coordinates": [
         -162.0725,
         5.881111
        ],
        "type": "Point"
       },
       "msg_throttle": 1
      }
     },
     "f84f9efaa79d4ebbbb7808c68f8998b2": {
      "model_module": "jupyter-leaflet",
      "model_module_version": "*",
      "model_name": "LeafletGeoJSONModel",
      "state": {
       "_model_module_version": "*",
       "_view_module_version": "*",
       "data": {
        "coordinates": [
         103.8,
         1.366667
        ],
        "type": "Point"
       },
       "msg_throttle": 1
      }
     },
     "f85e9e6a90ee4b519ee96f8ba0555c49": {
      "model_module": "jupyter-leaflet",
      "model_module_version": "*",
      "model_name": "LeafletGeoJSONModel",
      "state": {
       "_model_module_version": "*",
       "_view_module_version": "*",
       "data": {
        "coordinates": [
         -70.666667,
         19
        ],
        "type": "Point"
       },
       "msg_throttle": 1
      }
     },
     "f92fb1b904f64f39820ede786aa86b91": {
      "model_module": "jupyter-leaflet",
      "model_module_version": "*",
      "model_name": "LeafletGeoJSONModel",
      "state": {
       "_model_module_version": "*",
       "_view_module_version": "*",
       "data": {
        "coordinates": [
         20,
         78
        ],
        "type": "Point"
       },
       "msg_throttle": 1
      }
     },
     "fa0fa5c54a0b4749a62cf813d7f2d174": {
      "model_module": "jupyter-leaflet",
      "model_module_version": "*",
      "model_name": "LeafletGeoJSONModel",
      "state": {
       "_model_module_version": "*",
       "_view_module_version": "*",
       "data": {
        "coordinates": [
         30,
         8
        ],
        "type": "Point"
       },
       "msg_throttle": 1
      }
     },
     "fa94957d7b46421abd59f03a21e8046d": {
      "model_module": "jupyter-leaflet",
      "model_module_version": "*",
      "model_name": "LeafletGeoJSONModel",
      "state": {
       "_model_module_version": "*",
       "_view_module_version": "*",
       "data": {
        "coordinates": [
         -18,
         65
        ],
        "type": "Point"
       },
       "msg_throttle": 1
      }
     },
     "fbf9c73909d54ce5885f0ad1f81934a9": {
      "model_module": "jupyter-leaflet",
      "model_module_version": "*",
      "model_name": "LeafletGeoJSONModel",
      "state": {
       "_model_module_version": "*",
       "_view_module_version": "*",
       "data": {
        "coordinates": [
         -4,
         54
        ],
        "type": "Point"
       },
       "msg_throttle": 1
      }
     },
     "fc854dd1090845f88fbeb9c7b21d45a8": {
      "model_module": "jupyter-leaflet",
      "model_module_version": "*",
      "model_name": "LeafletGeoJSONModel",
      "state": {
       "_model_module_version": "*",
       "_view_module_version": "*",
       "data": {
        "coordinates": [
         17.833333,
         44.25
        ],
        "type": "Point"
       },
       "msg_throttle": 1
      }
     },
     "ff61ab67bdb54612964805bbbc2cbc14": {
      "model_module": "jupyter-leaflet",
      "model_module_version": "*",
      "model_name": "LeafletGeoJSONModel",
      "state": {
       "_model_module_version": "*",
       "_view_module_version": "*",
       "data": {
        "coordinates": [
         54.416667,
         -15.866667
        ],
        "type": "Point"
       },
       "msg_throttle": 1
      }
     }
    },
    "version_major": 1,
    "version_minor": 0
   }
  }
 },
 "nbformat": 4,
 "nbformat_minor": 2
}
